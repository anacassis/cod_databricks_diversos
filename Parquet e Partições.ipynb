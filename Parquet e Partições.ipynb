{
 "cells": [
  {
   "cell_type": "code",
   "execution_count": 0,
   "metadata": {
    "application/vnd.databricks.v1+cell": {
     "cellMetadata": {
      "byteLimit": 2048000,
      "rowLimit": 10000
     },
     "inputWidgets": {},
     "nuid": "69b486b7-83f4-40a1-9df9-d667897ecaea",
     "showTitle": false,
     "title": ""
    }
   },
   "outputs": [
    {
     "output_type": "stream",
     "name": "stdout",
     "output_type": "stream",
     "text": [
      "+-------------+-----------+-------------+---------+------+-------+\n|Primeiro_Nome|Ultimo_nome|Nacionalidade| Trabalho|Genero|Salario|\n+-------------+-----------+-------------+---------+------+-------+\n|     Grimaldo|   Oliveira|   Brasileira|Professor|     M|   3000|\n|         Ana |     Santos|   Portuguesa|    Atriz|     F|   4000|\n|      Roberto|     Carlos|   Brasileira| Analista|     M|   4000|\n|        Maria|   Santanna|     Italiana| Dentista|     F|   6000|\n|        Jeane|    Andrade|      Inglesa|   Medica|     F|   7000|\n+-------------+-----------+-------------+---------+------+-------+\n\n"
     ]
    }
   ],
   "source": [
    "#criando um dataframe com dados fixos\n",
    "dados =[(\"Grimaldo\",\"Oliveira\",\"Brasileira\",\"Professor\",\"M\",3000),\n",
    "        (\"Ana \",\"Santos\",\"Portuguesa\",\"Atriz\",\"F\",4000),\n",
    "        (\"Roberto\",\"Carlos\",\"Brasileira\",\"Analista\",\"M\",4000),\n",
    "        (\"Maria\",\"Santanna\",\"Italiana\",\"Dentista\",\"F\",6000),\n",
    "        (\"Jeane\",\"Andrade\",\"Inglesa\",\"Medica\",\"F\",7000)]\n",
    "\n",
    "colunas=[\"Primeiro_Nome\",\"Ultimo_nome\",\"Nacionalidade\",\"Trabalho\",\"Genero\",\"Salario\"]\n",
    "datafparquet=spark.createDataFrame(dados,colunas)\n",
    "datafparquet.show()"
   ]
  },
  {
   "cell_type": "code",
   "execution_count": 0,
   "metadata": {
    "application/vnd.databricks.v1+cell": {
     "cellMetadata": {
      "byteLimit": 2048000,
      "rowLimit": 10000
     },
     "inputWidgets": {},
     "nuid": "394199f0-e31a-4d00-ac61-0ed02ef1bff2",
     "showTitle": true,
     "title": " Gravando o arquivo parquet"
    }
   },
   "outputs": [],
   "source": [
    "#criando o arquivo parquet\n",
    "datafparquet.write.parquet(\"/FileStore/tables/parquet/pessoal.parquet\")"
   ]
  },
  {
   "cell_type": "code",
   "execution_count": 0,
   "metadata": {
    "application/vnd.databricks.v1+cell": {
     "cellMetadata": {
      "byteLimit": 2048000,
      "rowLimit": 10000
     },
     "inputWidgets": {},
     "nuid": "5a10ec48-dfec-428b-94df-4132482b11c2",
     "showTitle": true,
     "title": "Subscrevendo o arquivo parquet"
    }
   },
   "outputs": [],
   "source": [
    "\n",
    "#Permite uma atualização do arquivo parquet\n",
    "datafparquet.write.mode('overwrite').parquet('/FileStore/tables/parquet/pessoal.parquet')\n"
   ]
  },
  {
   "cell_type": "code",
   "execution_count": 0,
   "metadata": {
    "application/vnd.databricks.v1+cell": {
     "cellMetadata": {
      "byteLimit": 2048000,
      "rowLimit": 10000
     },
     "inputWidgets": {},
     "nuid": "9f76e5f1-99b6-43d7-8ffd-7ecba1421f03",
     "showTitle": true,
     "title": "Lendo o arquivo parquet e guardando em um dataframe"
    }
   },
   "outputs": [
    {
     "output_type": "stream",
     "name": "stdout",
     "output_type": "stream",
     "text": [
      "+-------------+-----------+-------------+---------+------+-------+\n|Primeiro_Nome|Ultimo_nome|Nacionalidade| Trabalho|Genero|Salario|\n+-------------+-----------+-------------+---------+------+-------+\n|     Grimaldo|   Oliveira|   Brasileira|Professor|     M|   3000|\n|      Roberto|     Carlos|   Brasileira| Analista|     M|   4000|\n|        Maria|   Santanna|     Italiana| Dentista|     F|   6000|\n|         Ana |     Santos|   Portuguesa|    Atriz|     F|   4000|\n|        Jeane|    Andrade|      Inglesa|   Medica|     F|   7000|\n+-------------+-----------+-------------+---------+------+-------+\n\n"
     ]
    }
   ],
   "source": [
    "#Realizando uma atualização do arquivo parquet\n",
    "datafleitura=spark.read.parquet(\"/FileStore/tables/parquet/pessoal.parquet\")\n",
    "datafleitura.show()\n"
   ]
  },
  {
   "cell_type": "code",
   "execution_count": 0,
   "metadata": {
    "application/vnd.databricks.v1+cell": {
     "cellMetadata": {
      "byteLimit": 2048000,
      "rowLimit": 10000
     },
     "inputWidgets": {},
     "nuid": "6aa53d5a-9669-40ba-9e69-a8374cda950f",
     "showTitle": true,
     "title": "Realizando uma consulta SQL"
    }
   },
   "outputs": [
    {
     "output_type": "stream",
     "name": "stdout",
     "output_type": "stream",
     "text": [
      "+-------------+-----------+-------------+--------+------+-------+\n|Primeiro_Nome|Ultimo_nome|Nacionalidade|Trabalho|Genero|Salario|\n+-------------+-----------+-------------+--------+------+-------+\n|        Maria|   Santanna|     Italiana|Dentista|     F|   6000|\n|        Jeane|    Andrade|   Portuguesa|  Medica|     F|   7000|\n+-------------+-----------+-------------+--------+------+-------+\n\n"
     ]
    }
   ],
   "source": [
    "#Criando uma consulta em SQL\n",
    "datafleitura.createOrReplaceTempView(\"Tabela_Parquet\")\n",
    "ResultSQL = spark.sql(\"select * from Tabela_Parquet where salario >= 6000 \")\n",
    "ResultSQL.show()"
   ]
  },
  {
   "cell_type": "markdown",
   "metadata": {
    "application/vnd.databricks.v1+cell": {
     "cellMetadata": {},
     "inputWidgets": {},
     "nuid": "9df5019d-f290-47c1-a063-450f47a17998",
     "showTitle": false,
     "title": ""
    }
   },
   "source": [
    "## Utilizando Partições\n"
   ]
  },
  {
   "cell_type": "code",
   "execution_count": 0,
   "metadata": {
    "application/vnd.databricks.v1+cell": {
     "cellMetadata": {
      "byteLimit": 2048000,
      "rowLimit": 10000
     },
     "inputWidgets": {},
     "nuid": "37c78c44-48fb-4f80-a2ef-52b20f267705",
     "showTitle": false,
     "title": ""
    }
   },
   "outputs": [
    {
     "output_type": "display_data",
     "data": {
      "text/html": [
       "<style scoped>\n",
       "  .table-result-container {\n",
       "    max-height: 300px;\n",
       "    overflow: auto;\n",
       "  }\n",
       "  table, th, td {\n",
       "    border: 1px solid black;\n",
       "    border-collapse: collapse;\n",
       "  }\n",
       "  th, td {\n",
       "    padding: 5px;\n",
       "  }\n",
       "  th {\n",
       "    text-align: left;\n",
       "  }\n",
       "</style><div class='table-result-container'><table class='table-result'><thead style='background-color: white'><tr><th>Primeiro_Nome</th><th>Ultimo_nome</th><th>Nacionalidade</th><th>Trabalho</th><th>Genero</th><th>Salario</th></tr></thead><tbody><tr><td>Grimaldo</td><td>Oliveira</td><td>Brasileira</td><td>Professor</td><td>M</td><td>3000</td></tr><tr><td>Ana </td><td>Santos</td><td>Portuguesa</td><td>Atriz</td><td>F</td><td>4000</td></tr><tr><td>Roberto</td><td>Carlos</td><td>Brasileira</td><td>Analista</td><td>M</td><td>4000</td></tr><tr><td>Maria</td><td>Santanna</td><td>Italiana</td><td>Dentista</td><td>F</td><td>6000</td></tr><tr><td>Jeane</td><td>Andrade</td><td>Inglesa</td><td>Medica</td><td>F</td><td>7000</td></tr></tbody></table></div>"
      ]
     },
     "metadata": {
      "application/vnd.databricks.v1+output": {
       "addedWidgets": {},
       "aggData": [],
       "aggError": "",
       "aggOverflow": false,
       "aggSchema": [],
       "aggSeriesLimitReached": false,
       "aggType": "",
       "arguments": {},
       "columnCustomDisplayInfos": {},
       "data": [
        [
         "Grimaldo",
         "Oliveira",
         "Brasileira",
         "Professor",
         "M",
         3000
        ],
        [
         "Ana ",
         "Santos",
         "Portuguesa",
         "Atriz",
         "F",
         4000
        ],
        [
         "Roberto",
         "Carlos",
         "Brasileira",
         "Analista",
         "M",
         4000
        ],
        [
         "Maria",
         "Santanna",
         "Italiana",
         "Dentista",
         "F",
         6000
        ],
        [
         "Jeane",
         "Andrade",
         "Inglesa",
         "Medica",
         "F",
         7000
        ]
       ],
       "datasetInfos": [],
       "dbfsResultPath": null,
       "isJsonSchema": true,
       "metadata": {},
       "overflow": false,
       "plotOptions": {
        "customPlotOptions": {},
        "displayType": "table",
        "pivotAggregation": null,
        "pivotColumns": null,
        "xColumns": null,
        "yColumns": null
       },
       "removedWidgets": [],
       "schema": [
        {
         "metadata": "{}",
         "name": "Primeiro_Nome",
         "type": "\"string\""
        },
        {
         "metadata": "{}",
         "name": "Ultimo_nome",
         "type": "\"string\""
        },
        {
         "metadata": "{}",
         "name": "Nacionalidade",
         "type": "\"string\""
        },
        {
         "metadata": "{}",
         "name": "Trabalho",
         "type": "\"string\""
        },
        {
         "metadata": "{}",
         "name": "Genero",
         "type": "\"string\""
        },
        {
         "metadata": "{}",
         "name": "Salario",
         "type": "\"long\""
        }
       ],
       "type": "table"
      }
     },
     "output_type": "display_data"
    }
   ],
   "source": [
    "#Particionando os dados em um arquivo parquet\n",
    "datafparquet.write.partitionBy(\"Nacionalidade\",\"salario\").mode(\"overwrite\").parquet(\"/FileStore/tables/parquet/pessoal.parquet\")\n",
    "display(datafparquet)"
   ]
  },
  {
   "cell_type": "code",
   "execution_count": 0,
   "metadata": {
    "application/vnd.databricks.v1+cell": {
     "cellMetadata": {
      "byteLimit": 2048000,
      "rowLimit": 10000
     },
     "inputWidgets": {},
     "nuid": "a157ac41-9548-4b3c-a64d-72bbfe7754d5",
     "showTitle": true,
     "title": "Exibindo os dados do parquet cuja a nacionalidade é brasileira"
    }
   },
   "outputs": [
    {
     "output_type": "stream",
     "name": "stdout",
     "output_type": "stream",
     "text": [
      "+-------------+-----------+---------+------+-------+\n|Primeiro_Nome|Ultimo_nome|Trabalho |Genero|salario|\n+-------------+-----------+---------+------+-------+\n|Grimaldo     |Oliveira   |Professor|M     |3000   |\n|Roberto      |Carlos     |Analista |M     |4000   |\n+-------------+-----------+---------+------+-------+\n\n"
     ]
    }
   ],
   "source": [
    "#Lendo o aquivo participonado do parquet\n",
    "datafnacional=spark.read.parquet(\"/FileStore/tables/parquet/pessoal.parquet/Nacionalidade=Brasileira\")\n",
    "datafnacional.show(truncate=False)\n"
   ]
  },
  {
   "cell_type": "code",
   "execution_count": 0,
   "metadata": {
    "application/vnd.databricks.v1+cell": {
     "cellMetadata": {
      "byteLimit": 2048000,
      "rowLimit": 10000
     },
     "inputWidgets": {},
     "nuid": "1396bba9-05ce-444d-85d5-fd81eb37d8dd",
     "showTitle": true,
     "title": "Realizando uma pesquisa via SQL no arquivo parquet particionado"
    }
   },
   "outputs": [
    {
     "output_type": "stream",
     "name": "stdout",
     "output_type": "stream",
     "text": [
      "+-------------+-----------+---------+------+-------+\n|Primeiro_Nome|Ultimo_nome| Trabalho|Genero|salario|\n+-------------+-----------+---------+------+-------+\n|     Grimaldo|   Oliveira|Professor|     M|   3000|\n+-------------+-----------+---------+------+-------+\n\n"
     ]
    }
   ],
   "source": [
    "#Consultando diretamente o arquivo parquet particionado via\n",
    "\n",
    "spark.sql(\"CREATE OR REPLACE TEMPORARY VIEW Cidadao USING parquet OPTIONS (path\\\"/FileStore/tables/parquet/pessoal.parquet/Nacionalidade=Brasileira\\\")\")\n",
    "spark.sql(\"SELECT * FROM Cidadao where Ultimo_nome='Oliveira'\").show()"
   ]
  },
  {
   "cell_type": "code",
   "execution_count": 0,
   "metadata": {
    "application/vnd.databricks.v1+cell": {
     "cellMetadata": {},
     "inputWidgets": {},
     "nuid": "f76243f7-4d52-4a3b-8110-8d248d1b9652",
     "showTitle": false,
     "title": ""
    }
   },
   "outputs": [],
   "source": []
  }
 ],
 "metadata": {
  "application/vnd.databricks.v1+notebook": {
   "dashboards": [],
   "language": "python",
   "notebookMetadata": {
    "pythonIndentUnit": 4
   },
   "notebookName": "Curso D - Parquet e Partições",
   "widgets": {}
  }
 },
 "nbformat": 4,
 "nbformat_minor": 0
}
