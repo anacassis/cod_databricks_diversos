{
 "cells": [
  {
   "cell_type": "code",
   "execution_count": 0,
   "metadata": {
    "application/vnd.databricks.v1+cell": {
     "cellMetadata": {},
     "inputWidgets": {},
     "nuid": "7bd3698d-82ff-4473-abd7-74cc8b6b7f1c",
     "showTitle": false,
     "title": ""
    }
   },
   "outputs": [],
   "source": []
  },
  {
   "cell_type": "code",
   "execution_count": 0,
   "metadata": {
    "application/vnd.databricks.v1+cell": {
     "cellMetadata": {
      "byteLimit": 2048000,
      "rowLimit": 10000
     },
     "inputWidgets": {},
     "nuid": "89dcef0f-2901-4c77-9118-bd1b03388216",
     "showTitle": false,
     "title": ""
    }
   },
   "outputs": [
    {
     "output_type": "stream",
     "name": "stdout",
     "output_type": "stream",
     "text": [
      "UsageError: Line magic function `%fs` not found.\n"
     ]
    },
    {
     "output_type": "display_data",
     "data": {
      "text/plain": [
       ""
      ]
     },
     "metadata": {
      "application/vnd.databricks.v1+output": {
       "arguments": {},
       "data": "",
       "errorSummary": "<span class='ansi-red-fg'>UsageError</span>: Line magic function `%fs` not found.",
       "errorTraceType": "ansi",
       "metadata": {},
       "type": "ipynbError"
      }
     },
     "output_type": "display_data"
    }
   ],
   "source": [
    "#Acessando o help de comando \n",
    "%fs help\n"
   ]
  },
  {
   "cell_type": "code",
   "execution_count": 0,
   "metadata": {
    "application/vnd.databricks.v1+cell": {
     "cellMetadata": {
      "byteLimit": 2048000,
      "rowLimit": 10000
     },
     "inputWidgets": {},
     "nuid": "c21efa43-b035-4533-8861-f953447794a6",
     "showTitle": false,
     "title": ""
    }
   },
   "outputs": [
    {
     "output_type": "stream",
     "name": "stdout",
     "output_type": "stream",
     "text": [
      "UsageError: Line magic function `%fs` not found.\n"
     ]
    },
    {
     "output_type": "display_data",
     "data": {
      "text/plain": [
       ""
      ]
     },
     "metadata": {
      "application/vnd.databricks.v1+output": {
       "arguments": {},
       "data": "",
       "errorSummary": "<span class='ansi-red-fg'>UsageError</span>: Line magic function `%fs` not found.",
       "errorTraceType": "ansi",
       "metadata": {},
       "type": "ipynbError"
      }
     },
     "output_type": "display_data"
    }
   ],
   "source": [
    "#Listando as pastas\n",
    "%fs ls /\n"
   ]
  },
  {
   "cell_type": "code",
   "execution_count": 0,
   "metadata": {
    "application/vnd.databricks.v1+cell": {
     "cellMetadata": {},
     "inputWidgets": {},
     "nuid": "6595cbc2-334d-4d36-a880-eac60f179651",
     "showTitle": false,
     "title": ""
    }
   },
   "outputs": [],
   "source": [
    "#Listando as pastas\n",
    "dbutils.fs.ls(\"/\")\n"
   ]
  },
  {
   "cell_type": "code",
   "execution_count": 0,
   "metadata": {
    "application/vnd.databricks.v1+cell": {
     "cellMetadata": {},
     "inputWidgets": {},
     "nuid": "91d650dc-81b3-4354-a9cf-68e8149f44fc",
     "showTitle": false,
     "title": ""
    }
   },
   "outputs": [],
   "source": [
    "# Criando as pastas (exemplo, criando a pasta vendas)\n",
    "%fs mkdirs vendas\n",
    "\n"
   ]
  },
  {
   "cell_type": "code",
   "execution_count": 0,
   "metadata": {
    "application/vnd.databricks.v1+cell": {
     "cellMetadata": {},
     "inputWidgets": {},
     "nuid": "edc7cde5-8885-4e9c-8c20-6e8072094183",
     "showTitle": false,
     "title": ""
    }
   },
   "outputs": [],
   "source": [
    "#Mostrando a pasta criada (exemplo, a pasta vendas)\n",
    "%fs ls /FileStore/\n"
   ]
  },
  {
   "cell_type": "code",
   "execution_count": 0,
   "metadata": {
    "application/vnd.databricks.v1+cell": {
     "cellMetadata": {},
     "inputWidgets": {},
     "nuid": "572d5dc6-a17d-4f5a-b374-2726a1dce15b",
     "showTitle": false,
     "title": ""
    }
   },
   "outputs": [],
   "source": [
    "# Copiando um arquivo de uma pasta para outra \n",
    "%fs cp /FileStore/tables/carga/vinhos_no_mundo.csv /FileStore/vendas2/copia_vinhos.csv\n"
   ]
  },
  {
   "cell_type": "code",
   "execution_count": 0,
   "metadata": {
    "application/vnd.databricks.v1+cell": {
     "cellMetadata": {
      "byteLimit": 2048000,
      "rowLimit": 10000
     },
     "inputWidgets": {},
     "nuid": "d45f8c31-1abc-452a-a9c3-edd94eeddfbd",
     "showTitle": false,
     "title": ""
    }
   },
   "outputs": [
    {
     "output_type": "display_data",
     "data": {
      "text/plain": [
       "\u001B[0;36m  File \u001B[0;32m\"<command-3718781549712089>\"\u001B[0;36m, line \u001B[0;32m2\u001B[0m\n",
       "\u001B[0;31m    dbutils.fs.cp(\"/FileStore/tables/carga/vinhos_no_mundo.csv\", \"/FileStore/vendas3/copia2_vinhos.csv\"\u001B[0m\n",
       "\u001B[0m                                                                                                       ^\u001B[0m\n",
       "\u001B[0;31mSyntaxError\u001B[0m\u001B[0;31m:\u001B[0m unexpected EOF while parsing\n"
      ]
     },
     "metadata": {
      "application/vnd.databricks.v1+output": {
       "arguments": {},
       "data": "\u001B[0;36m  File \u001B[0;32m\"<command-3718781549712089>\"\u001B[0;36m, line \u001B[0;32m2\u001B[0m\n\u001B[0;31m    dbutils.fs.cp(\"/FileStore/tables/carga/vinhos_no_mundo.csv\", \"/FileStore/vendas3/copia2_vinhos.csv\"\u001B[0m\n\u001B[0m                                                                                                       ^\u001B[0m\n\u001B[0;31mSyntaxError\u001B[0m\u001B[0;31m:\u001B[0m unexpected EOF while parsing\n",
       "errorSummary": "<span class='ansi-red-fg'>SyntaxError</span>: unexpected EOF while parsing (<command-3718781549712089>, line 2)",
       "errorTraceType": "ansi",
       "metadata": {},
       "type": "ipynbError"
      }
     },
     "output_type": "display_data"
    }
   ],
   "source": [
    "#Copiando um arquivo de uma pasta para outra \n",
    "dbutils.fs.cp(\"/FileStore/tables/carga/vinhos_no_mundo.csv\", \"/FileStore/vendas3/copia2_vinhos.csv\"\n"
   ]
  },
  {
   "cell_type": "code",
   "execution_count": 0,
   "metadata": {
    "application/vnd.databricks.v1+cell": {
     "cellMetadata": {},
     "inputWidgets": {},
     "nuid": "a36071a3-f0b8-4cea-b5c4-744e805b093f",
     "showTitle": false,
     "title": ""
    }
   },
   "outputs": [],
   "source": [
    "# Renomeando (troca de nome) de um arquivo\n",
    "%fs mv /FileStore/vendas2/copia_vinhos.csv \n",
    "/FileStore/vendas2/copia_muda_vinhos.csv\n"
   ]
  },
  {
   "cell_type": "code",
   "execution_count": 0,
   "metadata": {
    "application/vnd.databricks.v1+cell": {
     "cellMetadata": {},
     "inputWidgets": {},
     "nuid": "3b3b3d77-df13-4b2c-b5d7-fc99753e7377",
     "showTitle": false,
     "title": ""
    }
   },
   "outputs": [],
   "source": [
    "# Renomeando (troca de nome) de um arquivo\n",
    "dbutils.fs.mv(\"/FileStore/vendas2/copia_muda_vinhos.csv\", \n",
    "\"/FileStore/vendas2/copia_troca_vinhos.csv\")\n"
   ]
  },
  {
   "cell_type": "code",
   "execution_count": 0,
   "metadata": {
    "application/vnd.databricks.v1+cell": {
     "cellMetadata": {},
     "inputWidgets": {},
     "nuid": "3d4f198a-63ea-489f-8926-70519923df3d",
     "showTitle": false,
     "title": ""
    }
   },
   "outputs": [],
   "source": [
    "# Elimina um arquivo\n",
    "%fs rm /FileStore/vendas2/copia_troca_vinhos.csv\n"
   ]
  },
  {
   "cell_type": "code",
   "execution_count": 0,
   "metadata": {
    "application/vnd.databricks.v1+cell": {
     "cellMetadata": {},
     "inputWidgets": {},
     "nuid": "158ddd25-7bed-4923-96ac-1309ef2a1439",
     "showTitle": false,
     "title": ""
    }
   },
   "outputs": [],
   "source": [
    "# Elimina um arquivo\n",
    "%fs rm /FileStore/vendas3/copia2_vinhos.csv\n",
    "ou\n",
    "dbutils.fs.rm(\"/FileStore/vendas3/copia2_vinhos.csv\")\n"
   ]
  },
  {
   "cell_type": "code",
   "execution_count": 0,
   "metadata": {
    "application/vnd.databricks.v1+cell": {
     "cellMetadata": {},
     "inputWidgets": {},
     "nuid": "7b549f71-7733-47ac-b036-b2ae45548c1d",
     "showTitle": false,
     "title": ""
    }
   },
   "outputs": [],
   "source": [
    "# Elimina a pasta\n",
    "%fs rm -r /FileStore/vendas2/\n",
    "Ou\n",
    "dbutils.fs.rm(\"/FileStore/vendas2/\", recurse=True) \n"
   ]
  },
  {
   "cell_type": "code",
   "execution_count": 0,
   "metadata": {
    "application/vnd.databricks.v1+cell": {
     "cellMetadata": {},
     "inputWidgets": {},
     "nuid": "6f629c1e-117f-4595-a951-cbd7f990ad72",
     "showTitle": false,
     "title": ""
    }
   },
   "outputs": [],
   "source": [
    "# Realizando uma pesquisa em bash-linux\n",
    "%%bash\n",
    "find /databricks -name \"*.csv\" | grep \"fa\""
   ]
  }
 ],
 "metadata": {
  "application/vnd.databricks.v1+notebook": {
   "dashboards": [],
   "language": "python",
   "notebookMetadata": {
    "pythonIndentUnit": 4
   },
   "notebookName": "Curso D - Comandos internos",
   "widgets": {}
  }
 },
 "nbformat": 4,
 "nbformat_minor": 0
}
