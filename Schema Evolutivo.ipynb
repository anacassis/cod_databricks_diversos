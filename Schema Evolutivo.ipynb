{
 "cells": [
  {
   "cell_type": "markdown",
   "metadata": {
    "application/vnd.databricks.v1+cell": {
     "cellMetadata": {
      "byteLimit": 2048000,
      "rowLimit": 10000
     },
     "inputWidgets": {},
     "nuid": "f17b0d28-8f4d-462b-9d68-586b4479a8a3",
     "showTitle": false,
     "title": ""
    }
   },
   "source": [
    "## Criando o primeiro dataframe com dados, com os campos (Funcionario,Salario)"
   ]
  },
  {
   "cell_type": "code",
   "execution_count": 0,
   "metadata": {
    "application/vnd.databricks.v1+cell": {
     "cellMetadata": {
      "byteLimit": 2048000,
      "rowLimit": 10000
     },
     "inputWidgets": {},
     "nuid": "536c0958-811e-4897-a8db-fe167470e93e",
     "showTitle": false,
     "title": ""
    }
   },
   "outputs": [
    {
     "output_type": "display_data",
     "data": {
      "text/html": [
       "<style scoped>\n",
       "  .table-result-container {\n",
       "    max-height: 300px;\n",
       "    overflow: auto;\n",
       "  }\n",
       "  table, th, td {\n",
       "    border: 1px solid black;\n",
       "    border-collapse: collapse;\n",
       "  }\n",
       "  th, td {\n",
       "    padding: 5px;\n",
       "  }\n",
       "  th {\n",
       "    text-align: left;\n",
       "  }\n",
       "</style><div class='table-result-container'><table class='table-result'><thead style='background-color: white'><tr><th>Funcionario</th><th>Salario</th></tr></thead><tbody><tr><td>Joao Santos</td><td>2000</td></tr><tr><td>Carlos Fernandez</td><td>3400</td></tr></tbody></table></div>"
      ]
     },
     "metadata": {
      "application/vnd.databricks.v1+output": {
       "addedWidgets": {},
       "aggData": [],
       "aggError": "",
       "aggOverflow": false,
       "aggSchema": [],
       "aggSeriesLimitReached": false,
       "aggType": "",
       "arguments": {},
       "columnCustomDisplayInfos": {},
       "data": [
        [
         "Joao Santos",
         2000
        ],
        [
         "Carlos Fernandez",
         3400
        ]
       ],
       "datasetInfos": [],
       "dbfsResultPath": null,
       "isJsonSchema": true,
       "metadata": {},
       "overflow": false,
       "plotOptions": {
        "customPlotOptions": {},
        "displayType": "table",
        "pivotAggregation": null,
        "pivotColumns": null,
        "xColumns": null,
        "yColumns": null
       },
       "removedWidgets": [],
       "schema": [
        {
         "metadata": "{}",
         "name": "Funcionario",
         "type": "\"string\""
        },
        {
         "metadata": "{}",
         "name": "Salario",
         "type": "\"long\""
        }
       ],
       "type": "table"
      }
     },
     "output_type": "display_data"
    },
    {
     "output_type": "stream",
     "name": "stdout",
     "output_type": "stream",
     "text": [
      "root\n |-- Funcionario: string (nullable = true)\n |-- Salario: long (nullable = true)\n\n"
     ]
    }
   ],
   "source": [
    "\n",
    "%python\n",
    "empresa1 = spark.createDataFrame(\n",
    " [\n",
    " (\"Joao Santos\",2000),\n",
    " (\"Carlos Fernandez\",3400)\n",
    " ],['Funcionario', 'Salario'] ) \n",
    "display(empresa1)\n",
    "empresa1.printSchema()\n"
   ]
  },
  {
   "cell_type": "markdown",
   "metadata": {
    "application/vnd.databricks.v1+cell": {
     "cellMetadata": {},
     "inputWidgets": {},
     "nuid": "f6de6474-ea6c-4f31-adf3-f89fbb9b7c82",
     "showTitle": false,
     "title": ""
    }
   },
   "source": [
    "## Setado caminho, armazenando em um atributo"
   ]
  },
  {
   "cell_type": "code",
   "execution_count": 0,
   "metadata": {
    "application/vnd.databricks.v1+cell": {
     "cellMetadata": {
      "byteLimit": 2048000,
      "rowLimit": 10000
     },
     "inputWidgets": {},
     "nuid": "e3a8e4c2-fafc-4d0c-a92b-3848cc1b31fe",
     "showTitle": false,
     "title": ""
    }
   },
   "outputs": [],
   "source": [
    "%python\n",
    "parquetpath = \"dbfs:/FileStore/tables/delta/schema_evolution/parquet\""
   ]
  },
  {
   "cell_type": "markdown",
   "metadata": {
    "application/vnd.databricks.v1+cell": {
     "cellMetadata": {},
     "inputWidgets": {},
     "nuid": "ca9fbdf0-99bb-4093-b2af-d46a0910e4ba",
     "showTitle": false,
     "title": ""
    }
   },
   "source": [
    "## Criando arquivos parquet com base no primeiro dataframe"
   ]
  },
  {
   "cell_type": "code",
   "execution_count": 0,
   "metadata": {
    "application/vnd.databricks.v1+cell": {
     "cellMetadata": {
      "byteLimit": 2048000,
      "rowLimit": 10000
     },
     "inputWidgets": {},
     "nuid": "684dd2bf-883c-46c0-bb8a-ea343b61b867",
     "showTitle": false,
     "title": ""
    }
   },
   "outputs": [
    {
     "output_type": "stream",
     "name": "stdout",
     "output_type": "stream",
     "text": [
      "+----------------+-------+\n|     Funcionario|Salario|\n+----------------+-------+\n|Carlos Fernandez|   3400|\n|     Joao Santos|   2000|\n+----------------+-------+\n\n"
     ]
    }
   ],
   "source": [
    "\n",
    "%python\n",
    "# (empresa1\n",
    "#  .write\n",
    "#  .format(\"parquet\")\n",
    "#  .save(\"/FileStore/tables/delta/schema_evolution/parquet\")\n",
    "#)\n",
    "\n",
    "spark.read.parquet(parquetpath).show()\n"
   ]
  },
  {
   "cell_type": "markdown",
   "metadata": {
    "application/vnd.databricks.v1+cell": {
     "cellMetadata": {},
     "inputWidgets": {},
     "nuid": "0853439e-31fd-4718-8aa7-bc94abdedad1",
     "showTitle": false,
     "title": ""
    }
   },
   "source": [
    "## Criando o segundo dataframe com dados, acrescentando novos campos (Setor,Comissao)"
   ]
  },
  {
   "cell_type": "code",
   "execution_count": 0,
   "metadata": {
    "application/vnd.databricks.v1+cell": {
     "cellMetadata": {
      "byteLimit": 2048000,
      "rowLimit": 10000
     },
     "inputWidgets": {},
     "nuid": "570e7926-a557-480c-a5f6-0ce0ad9ac2d0",
     "showTitle": false,
     "title": ""
    }
   },
   "outputs": [
    {
     "output_type": "display_data",
     "data": {
      "text/html": [
       "<style scoped>\n",
       "  .table-result-container {\n",
       "    max-height: 300px;\n",
       "    overflow: auto;\n",
       "  }\n",
       "  table, th, td {\n",
       "    border: 1px solid black;\n",
       "    border-collapse: collapse;\n",
       "  }\n",
       "  th, td {\n",
       "    padding: 5px;\n",
       "  }\n",
       "  th {\n",
       "    text-align: left;\n",
       "  }\n",
       "</style><div class='table-result-container'><table class='table-result'><thead style='background-color: white'><tr><th>Setor</th><th>Comissao</th></tr></thead><tbody><tr><td>Financeiro</td><td>240</td></tr><tr><td>Marketing</td><td>540</td></tr></tbody></table></div>"
      ]
     },
     "metadata": {
      "application/vnd.databricks.v1+output": {
       "addedWidgets": {},
       "aggData": [],
       "aggError": "",
       "aggOverflow": false,
       "aggSchema": [],
       "aggSeriesLimitReached": false,
       "aggType": "",
       "arguments": {},
       "columnCustomDisplayInfos": {},
       "data": [
        [
         "Financeiro",
         240
        ],
        [
         "Marketing",
         540
        ]
       ],
       "datasetInfos": [],
       "dbfsResultPath": null,
       "isJsonSchema": true,
       "metadata": {},
       "overflow": false,
       "plotOptions": {
        "customPlotOptions": {},
        "displayType": "table",
        "pivotAggregation": null,
        "pivotColumns": null,
        "xColumns": null,
        "yColumns": null
       },
       "removedWidgets": [],
       "schema": [
        {
         "metadata": "{}",
         "name": "Setor",
         "type": "\"string\""
        },
        {
         "metadata": "{}",
         "name": "Comissao",
         "type": "\"long\""
        }
       ],
       "type": "table"
      }
     },
     "output_type": "display_data"
    },
    {
     "output_type": "stream",
     "name": "stdout",
     "output_type": "stream",
     "text": [
      "root\n |-- Setor: string (nullable = true)\n |-- Comissao: long (nullable = true)\n\n"
     ]
    }
   ],
   "source": [
    "%python\n",
    "empresa2 = spark.createDataFrame(\n",
    " [\n",
    " (\"Financeiro\",240),\n",
    " (\"Marketing\",540)\n",
    " ],['Setor', 'Comissao'] )\n",
    "display(empresa2)\n",
    "empresa2.printSchema()"
   ]
  },
  {
   "cell_type": "markdown",
   "metadata": {
    "application/vnd.databricks.v1+cell": {
     "cellMetadata": {},
     "inputWidgets": {},
     "nuid": "96ae8a6f-04a7-447e-9c29-dedbb36a3d3d",
     "showTitle": false,
     "title": ""
    }
   },
   "source": [
    "## Apesar de colocar \"append\"no parquet, não houve evolução do esquema, as colunas foram substituídas"
   ]
  },
  {
   "cell_type": "code",
   "execution_count": 0,
   "metadata": {
    "application/vnd.databricks.v1+cell": {
     "cellMetadata": {
      "byteLimit": 2048000,
      "rowLimit": 10000
     },
     "inputWidgets": {},
     "nuid": "368f24c0-e499-4df7-b2df-c5ccb8d983c6",
     "showTitle": false,
     "title": ""
    }
   },
   "outputs": [
    {
     "output_type": "stream",
     "name": "stdout",
     "output_type": "stream",
     "text": [
      "+----------+--------+\n|     Setor|Comissao|\n+----------+--------+\n|      null|    null|\n|      null|    null|\n|Financeiro|     240|\n| Marketing|     540|\n+----------+--------+\n\n"
     ]
    }
   ],
   "source": [
    "\n",
    "empresa2.write.mode(\"append\").parquet(parquetpath)\n",
    "spark.read.parquet(parquetpath).show()"
   ]
  },
  {
   "cell_type": "markdown",
   "metadata": {
    "application/vnd.databricks.v1+cell": {
     "cellMetadata": {},
     "inputWidgets": {},
     "nuid": "7b8a4e48-8bfe-48ec-9e26-3fdf0039036b",
     "showTitle": false,
     "title": ""
    }
   },
   "source": [
    "##Vamos gerar o Schema Evolution com as tabelas Delta\n"
   ]
  },
  {
   "cell_type": "code",
   "execution_count": 0,
   "metadata": {
    "application/vnd.databricks.v1+cell": {
     "cellMetadata": {
      "byteLimit": 2048000,
      "rowLimit": 10000
     },
     "inputWidgets": {},
     "nuid": "cc31cfe8-83fd-4835-883c-808ca2dd2ca2",
     "showTitle": false,
     "title": ""
    }
   },
   "outputs": [
    {
     "output_type": "stream",
     "name": "stdout",
     "output_type": "stream",
     "text": [
      "+----------------+-------+\n|     Funcionario|Salario|\n+----------------+-------+\n|Carlos Fernandez|   3400|\n|     Joao Santos|   2000|\n+----------------+-------+\n\n"
     ]
    }
   ],
   "source": [
    "deltapath = \"/FileStore/tables/delta/schema_evolution/delta\"\n",
    "(\n",
    "empresa1\n",
    " .write\n",
    " .format(\"delta\")\n",
    " .save(\"/FileStore/tables/delta/schema_evolution/delta\")\n",
    ")\n",
    "spark.read.format(\"delta\").load(deltapath).show()\n"
   ]
  },
  {
   "cell_type": "markdown",
   "metadata": {
    "application/vnd.databricks.v1+cell": {
     "cellMetadata": {},
     "inputWidgets": {},
     "nuid": "b73b7b5b-d871-4aec-bd4e-abd0a3f67e7d",
     "showTitle": false,
     "title": ""
    }
   },
   "source": [
    "##Vamos realizar um \"merge\" entre os dataframes, note que agora\n",
    "conseguirá realizar a junção entre os schemas. Os dados inexistentes\n",
    "foram acrescidos de nulos"
   ]
  },
  {
   "cell_type": "code",
   "execution_count": 0,
   "metadata": {
    "application/vnd.databricks.v1+cell": {
     "cellMetadata": {
      "byteLimit": 2048000,
      "rowLimit": 10000
     },
     "inputWidgets": {},
     "nuid": "13ae8b72-4eee-41c4-8e61-66118a52e5e6",
     "showTitle": false,
     "title": ""
    }
   },
   "outputs": [
    {
     "output_type": "stream",
     "name": "stdout",
     "output_type": "stream",
     "text": [
      "+----------------+-------+----------+--------+\n|     Funcionario|Salario|     Setor|Comissao|\n+----------------+-------+----------+--------+\n|Carlos Fernandez|   3400|      null|    null|\n|     Joao Santos|   2000|      null|    null|\n|            null|   null|Financeiro|     240|\n|            null|   null| Marketing|     540|\n+----------------+-------+----------+--------+\n\n"
     ]
    }
   ],
   "source": [
    "(\n",
    "empresa2\n",
    " .write\n",
    " .format(\"delta\")\n",
    " .mode(\"append\")\n",
    " .option(\"mergeSchema\", \"true\")\n",
    " .save(deltapath)\n",
    ")\n",
    "spark.read.format(\"delta\").load(deltapath).show()"
   ]
  },
  {
   "cell_type": "markdown",
   "metadata": {
    "application/vnd.databricks.v1+cell": {
     "cellMetadata": {},
     "inputWidgets": {},
     "nuid": "1e6f8962-4243-4779-90cb-d5c31314789d",
     "showTitle": false,
     "title": ""
    }
   },
   "source": [
    "##Vamos inserir novos dados e aplicar o \"append\" para verificar como funcionará a inserção"
   ]
  },
  {
   "cell_type": "code",
   "execution_count": 0,
   "metadata": {
    "application/vnd.databricks.v1+cell": {
     "cellMetadata": {
      "byteLimit": 2048000,
      "rowLimit": 10000
     },
     "inputWidgets": {},
     "nuid": "2680e89b-92c1-408c-b2fe-73c6e316ee37",
     "showTitle": false,
     "title": ""
    }
   },
   "outputs": [],
   "source": [
    "empresa3 = spark.createDataFrame(\n",
    " [\n",
    " (\"Sandra Lemos\",672),\n",
    " (\"Carla Soares\",966),\n",
    " ],\n",
    " ['Funcionario', 'Comissao']\n",
    ")"
   ]
  },
  {
   "cell_type": "markdown",
   "metadata": {
    "application/vnd.databricks.v1+cell": {
     "cellMetadata": {},
     "inputWidgets": {},
     "nuid": "124cd935-d048-4f0e-9f2c-e055ba2ea229",
     "showTitle": false,
     "title": ""
    }
   },
   "source": [
    "## Vamos acrescentar dados mais dados e verificar a inclusão apenas de alguns campos\n"
   ]
  },
  {
   "cell_type": "code",
   "execution_count": 0,
   "metadata": {
    "application/vnd.databricks.v1+cell": {
     "cellMetadata": {
      "byteLimit": 2048000,
      "rowLimit": 10000
     },
     "inputWidgets": {},
     "nuid": "f496910e-a5df-4dae-a2b9-8b81cc103b84",
     "showTitle": false,
     "title": ""
    }
   },
   "outputs": [
    {
     "output_type": "stream",
     "name": "stdout",
     "output_type": "stream",
     "text": [
      "+----------------+-------+----------+--------+\n|     Funcionario|Salario|     Setor|Comissao|\n+----------------+-------+----------+--------+\n|Carlos Fernandez|   3400|      null|    null|\n|    Sandra Lemos|   null|      null|     672|\n|    Carla Soares|   null|      null|     966|\n|     Joao Santos|   2000|      null|    null|\n|            null|   null|Financeiro|     240|\n|            null|   null| Marketing|     540|\n+----------------+-------+----------+--------+\n\n"
     ]
    },
    {
     "output_type": "stream",
     "name": "stderr",
     "output_type": "stream",
     "text": [
      "UsageError: Line magic function `%md` not found.\n"
     ]
    },
    {
     "output_type": "display_data",
     "data": {
      "text/plain": [
       ""
      ]
     },
     "metadata": {
      "application/vnd.databricks.v1+output": {
       "arguments": {},
       "data": "",
       "errorSummary": "<span class='ansi-red-fg'>UsageError</span>: Line magic function `%md` not found.",
       "errorTraceType": "ansi",
       "metadata": {},
       "type": "ipynbError"
      }
     },
     "output_type": "display_data"
    }
   ],
   "source": [
    "(\n",
    "empresa3\n",
    " .write\n",
    " .format(\"delta\")\n",
    " .mode(\"append\")\n",
    " .option(\"mergeSchema\", \"true\")\n",
    " .save(deltapath)\n",
    ")\n",
    "spark.read.format(\"delta\").load(deltapath).show()\n",
    "%md"
   ]
  },
  {
   "cell_type": "markdown",
   "metadata": {
    "application/vnd.databricks.v1+cell": {
     "cellMetadata": {},
     "inputWidgets": {},
     "nuid": "b8769e22-9a21-4f0e-a3f0-dca9a119412d",
     "showTitle": false,
     "title": ""
    }
   },
   "source": [
    "##Vamos fazer sobregravação dos formatos delta, variando os modos, quando o merge está ativo \"option=mergeSchema, mode=overwrite\""
   ]
  },
  {
   "cell_type": "code",
   "execution_count": 0,
   "metadata": {
    "application/vnd.databricks.v1+cell": {
     "cellMetadata": {
      "byteLimit": 2048000,
      "rowLimit": 10000
     },
     "inputWidgets": {},
     "nuid": "15f5cd49-d99f-4428-b69b-c3f8091fc35e",
     "showTitle": false,
     "title": ""
    }
   },
   "outputs": [
    {
     "output_type": "stream",
     "name": "stdout",
     "output_type": "stream",
     "text": [
      "+------------+-------+-----+--------+\n| Funcionario|Salario|Setor|Comissao|\n+------------+-------+-----+--------+\n|Sandra Lemos|   null| null|     672|\n|Carla Soares|   null| null|     966|\n+------------+-------+-----+--------+\n\n"
     ]
    }
   ],
   "source": [
    "(\n",
    "empresa3\n",
    " .write\n",
    " .format(\"delta\")\n",
    " .mode(\"overwrite\")\n",
    " .option(\"mergeSchema\", \"true\")\n",
    " .save(deltapath)\n",
    ")\n",
    "spark.read.format(\"delta\").load(deltapath).show()"
   ]
  },
  {
   "cell_type": "markdown",
   "metadata": {
    "application/vnd.databricks.v1+cell": {
     "cellMetadata": {},
     "inputWidgets": {},
     "nuid": "a2d36f34-93d0-4853-9042-29222857ff47",
     "showTitle": false,
     "title": ""
    }
   },
   "source": [
    "## Vamos sobrescrever toda a tabela, perceba as mudancas dos campos que ficaram e dos registros. \"option=overwriteschema , mode=overwrite\"\n"
   ]
  },
  {
   "cell_type": "code",
   "execution_count": 0,
   "metadata": {
    "application/vnd.databricks.v1+cell": {
     "cellMetadata": {
      "byteLimit": 2048000,
      "rowLimit": 10000
     },
     "inputWidgets": {},
     "nuid": "af1b1207-1620-4142-897d-364cc22eb2a3",
     "showTitle": false,
     "title": ""
    }
   },
   "outputs": [
    {
     "output_type": "stream",
     "name": "stdout",
     "output_type": "stream",
     "text": [
      "+------------+--------+\n| Funcionario|Comissao|\n+------------+--------+\n|Sandra Lemos|     672|\n|Carla Soares|     966|\n+------------+--------+\n\n"
     ]
    }
   ],
   "source": [
    "%python\n",
    "(\n",
    "empresa3\n",
    " .write\n",
    " .format(\"delta\")\n",
    " .option(\"overwriteSchema\", \"true\")\n",
    " .mode(\"overwrite\")\n",
    " .save(deltapath)\n",
    ")\n",
    "spark.read.format(\"delta\").load(deltapath).show()"
   ]
  },
  {
   "cell_type": "markdown",
   "metadata": {
    "application/vnd.databricks.v1+cell": {
     "cellMetadata": {},
     "inputWidgets": {},
     "nuid": "19c7d8d4-008e-41bd-8646-7b8525e3b1c5",
     "showTitle": false,
     "title": ""
    }
   },
   "source": [
    "## Vamos criar uma tabela delta com referência aos parquet (delta) criados\n"
   ]
  },
  {
   "cell_type": "code",
   "execution_count": 0,
   "metadata": {
    "application/vnd.databricks.v1+cell": {
     "cellMetadata": {
      "byteLimit": 2048000,
      "implicitDf": true,
      "rowLimit": 10000
     },
     "inputWidgets": {},
     "nuid": "89fbeedd-612c-40d7-b136-eafa7dc1ece9",
     "showTitle": false,
     "title": ""
    }
   },
   "outputs": [
    {
     "output_type": "display_data",
     "data": {
      "text/html": [
       "<style scoped>\n",
       "  .table-result-container {\n",
       "    max-height: 300px;\n",
       "    overflow: auto;\n",
       "  }\n",
       "  table, th, td {\n",
       "    border: 1px solid black;\n",
       "    border-collapse: collapse;\n",
       "  }\n",
       "  th, td {\n",
       "    padding: 5px;\n",
       "  }\n",
       "  th {\n",
       "    text-align: left;\n",
       "  }\n",
       "</style><div class='table-result-container'><table class='table-result'><thead style='background-color: white'><tr></tr></thead><tbody></tbody></table></div>"
      ]
     },
     "metadata": {
      "application/vnd.databricks.v1+output": {
       "addedWidgets": {},
       "aggData": [],
       "aggError": "",
       "aggOverflow": false,
       "aggSchema": [],
       "aggSeriesLimitReached": false,
       "aggType": "",
       "arguments": {},
       "columnCustomDisplayInfos": {},
       "data": [],
       "datasetInfos": [],
       "dbfsResultPath": null,
       "isJsonSchema": true,
       "metadata": {},
       "overflow": false,
       "plotOptions": {
        "customPlotOptions": {},
        "displayType": "table",
        "pivotAggregation": null,
        "pivotColumns": null,
        "xColumns": null,
        "yColumns": null
       },
       "removedWidgets": [],
       "schema": [],
       "type": "table"
      }
     },
     "output_type": "display_data"
    }
   ],
   "source": [
    "%sql\n",
    "CREATE TABLE tab_empresa(\n",
    " Funcionario STRING,\n",
    " Comissao long\n",
    " )\n",
    "USING delta\n",
    "LOCATION \"/FileStore/tables/delta/schema_evolution/delta\""
   ]
  },
  {
   "cell_type": "code",
   "execution_count": 0,
   "metadata": {
    "application/vnd.databricks.v1+cell": {
     "cellMetadata": {
      "byteLimit": 2048000,
      "implicitDf": true,
      "rowLimit": 10000
     },
     "inputWidgets": {},
     "nuid": "f8901a32-7bbb-475c-a7b5-d02501bd2f57",
     "showTitle": false,
     "title": ""
    }
   },
   "outputs": [
    {
     "output_type": "display_data",
     "data": {
      "text/html": [
       "<style scoped>\n",
       "  .table-result-container {\n",
       "    max-height: 300px;\n",
       "    overflow: auto;\n",
       "  }\n",
       "  table, th, td {\n",
       "    border: 1px solid black;\n",
       "    border-collapse: collapse;\n",
       "  }\n",
       "  th, td {\n",
       "    padding: 5px;\n",
       "  }\n",
       "  th {\n",
       "    text-align: left;\n",
       "  }\n",
       "</style><div class='table-result-container'><table class='table-result'><thead style='background-color: white'><tr><th>version</th><th>timestamp</th><th>userId</th><th>userName</th><th>operation</th><th>operationParameters</th><th>job</th><th>notebook</th><th>clusterId</th><th>readVersion</th><th>isolationLevel</th><th>isBlindAppend</th><th>operationMetrics</th><th>userMetadata</th><th>engineInfo</th></tr></thead><tbody><tr><td>4</td><td>2024-02-28T18:50:37.000+0000</td><td>7406534468247714</td><td>anacadriano20@gmail.com</td><td>WRITE</td><td>Map(mode -> Overwrite, partitionBy -> [])</td><td>null</td><td>List(695144068266369)</td><td>0228-181900-z33pble8</td><td>3</td><td>WriteSerializable</td><td>false</td><td>Map(numFiles -> 2, numOutputRows -> 2, numOutputBytes -> 1858)</td><td>null</td><td>Databricks-Runtime/12.2.x-scala2.12</td></tr><tr><td>3</td><td>2024-02-28T18:49:40.000+0000</td><td>7406534468247714</td><td>anacadriano20@gmail.com</td><td>WRITE</td><td>Map(mode -> Overwrite, partitionBy -> [])</td><td>null</td><td>List(695144068266369)</td><td>0228-181900-z33pble8</td><td>2</td><td>WriteSerializable</td><td>false</td><td>Map(numFiles -> 2, numOutputRows -> 2, numOutputBytes -> 1858)</td><td>null</td><td>Databricks-Runtime/12.2.x-scala2.12</td></tr><tr><td>2</td><td>2024-02-28T18:48:08.000+0000</td><td>7406534468247714</td><td>anacadriano20@gmail.com</td><td>WRITE</td><td>Map(mode -> Append, partitionBy -> [])</td><td>null</td><td>List(695144068266369)</td><td>0228-181900-z33pble8</td><td>1</td><td>WriteSerializable</td><td>true</td><td>Map(numFiles -> 2, numOutputRows -> 2, numOutputBytes -> 1858)</td><td>null</td><td>Databricks-Runtime/12.2.x-scala2.12</td></tr><tr><td>1</td><td>2024-02-28T18:46:32.000+0000</td><td>7406534468247714</td><td>anacadriano20@gmail.com</td><td>WRITE</td><td>Map(mode -> Append, partitionBy -> [])</td><td>null</td><td>List(695144068266369)</td><td>0228-181900-z33pble8</td><td>0</td><td>WriteSerializable</td><td>true</td><td>Map(numFiles -> 2, numOutputRows -> 2, numOutputBytes -> 1786)</td><td>null</td><td>Databricks-Runtime/12.2.x-scala2.12</td></tr><tr><td>0</td><td>2024-02-28T18:45:20.000+0000</td><td>7406534468247714</td><td>anacadriano20@gmail.com</td><td>WRITE</td><td>Map(mode -> ErrorIfExists, partitionBy -> [])</td><td>null</td><td>List(695144068266369)</td><td>0228-181900-z33pble8</td><td>null</td><td>WriteSerializable</td><td>true</td><td>Map(numFiles -> 2, numOutputRows -> 2, numOutputBytes -> 1873)</td><td>null</td><td>Databricks-Runtime/12.2.x-scala2.12</td></tr></tbody></table></div>"
      ]
     },
     "metadata": {
      "application/vnd.databricks.v1+output": {
       "addedWidgets": {},
       "aggData": [],
       "aggError": "",
       "aggOverflow": false,
       "aggSchema": [],
       "aggSeriesLimitReached": false,
       "aggType": "",
       "arguments": {},
       "columnCustomDisplayInfos": {},
       "data": [
        [
         4,
         "2024-02-28T18:50:37.000+0000",
         "7406534468247714",
         "anacadriano20@gmail.com",
         "WRITE",
         {
          "mode": "Overwrite",
          "partitionBy": "[]"
         },
         null,
         [
          "695144068266369"
         ],
         "0228-181900-z33pble8",
         3,
         "WriteSerializable",
         false,
         {
          "numFiles": "2",
          "numOutputBytes": "1858",
          "numOutputRows": "2"
         },
         null,
         "Databricks-Runtime/12.2.x-scala2.12"
        ],
        [
         3,
         "2024-02-28T18:49:40.000+0000",
         "7406534468247714",
         "anacadriano20@gmail.com",
         "WRITE",
         {
          "mode": "Overwrite",
          "partitionBy": "[]"
         },
         null,
         [
          "695144068266369"
         ],
         "0228-181900-z33pble8",
         2,
         "WriteSerializable",
         false,
         {
          "numFiles": "2",
          "numOutputBytes": "1858",
          "numOutputRows": "2"
         },
         null,
         "Databricks-Runtime/12.2.x-scala2.12"
        ],
        [
         2,
         "2024-02-28T18:48:08.000+0000",
         "7406534468247714",
         "anacadriano20@gmail.com",
         "WRITE",
         {
          "mode": "Append",
          "partitionBy": "[]"
         },
         null,
         [
          "695144068266369"
         ],
         "0228-181900-z33pble8",
         1,
         "WriteSerializable",
         true,
         {
          "numFiles": "2",
          "numOutputBytes": "1858",
          "numOutputRows": "2"
         },
         null,
         "Databricks-Runtime/12.2.x-scala2.12"
        ],
        [
         1,
         "2024-02-28T18:46:32.000+0000",
         "7406534468247714",
         "anacadriano20@gmail.com",
         "WRITE",
         {
          "mode": "Append",
          "partitionBy": "[]"
         },
         null,
         [
          "695144068266369"
         ],
         "0228-181900-z33pble8",
         0,
         "WriteSerializable",
         true,
         {
          "numFiles": "2",
          "numOutputBytes": "1786",
          "numOutputRows": "2"
         },
         null,
         "Databricks-Runtime/12.2.x-scala2.12"
        ],
        [
         0,
         "2024-02-28T18:45:20.000+0000",
         "7406534468247714",
         "anacadriano20@gmail.com",
         "WRITE",
         {
          "mode": "ErrorIfExists",
          "partitionBy": "[]"
         },
         null,
         [
          "695144068266369"
         ],
         "0228-181900-z33pble8",
         null,
         "WriteSerializable",
         true,
         {
          "numFiles": "2",
          "numOutputBytes": "1873",
          "numOutputRows": "2"
         },
         null,
         "Databricks-Runtime/12.2.x-scala2.12"
        ]
       ],
       "datasetInfos": [],
       "dbfsResultPath": null,
       "isJsonSchema": true,
       "metadata": {},
       "overflow": false,
       "plotOptions": {
        "customPlotOptions": {},
        "displayType": "table",
        "pivotAggregation": null,
        "pivotColumns": null,
        "xColumns": null,
        "yColumns": null
       },
       "removedWidgets": [],
       "schema": [
        {
         "metadata": "{}",
         "name": "version",
         "type": "\"long\""
        },
        {
         "metadata": "{}",
         "name": "timestamp",
         "type": "\"timestamp\""
        },
        {
         "metadata": "{}",
         "name": "userId",
         "type": "\"string\""
        },
        {
         "metadata": "{}",
         "name": "userName",
         "type": "\"string\""
        },
        {
         "metadata": "{}",
         "name": "operation",
         "type": "\"string\""
        },
        {
         "metadata": "{}",
         "name": "operationParameters",
         "type": "{\"type\":\"map\",\"keyType\":\"string\",\"valueType\":\"string\",\"valueContainsNull\":true}"
        },
        {
         "metadata": "{}",
         "name": "job",
         "type": "{\"type\":\"struct\",\"fields\":[{\"name\":\"jobId\",\"type\":\"string\",\"nullable\":true,\"metadata\":{}},{\"name\":\"jobName\",\"type\":\"string\",\"nullable\":true,\"metadata\":{}},{\"name\":\"jobRunId\",\"type\":\"string\",\"nullable\":true,\"metadata\":{}},{\"name\":\"runId\",\"type\":\"string\",\"nullable\":true,\"metadata\":{}},{\"name\":\"jobOwnerId\",\"type\":\"string\",\"nullable\":true,\"metadata\":{}},{\"name\":\"triggerType\",\"type\":\"string\",\"nullable\":true,\"metadata\":{}}]}"
        },
        {
         "metadata": "{}",
         "name": "notebook",
         "type": "{\"type\":\"struct\",\"fields\":[{\"name\":\"notebookId\",\"type\":\"string\",\"nullable\":true,\"metadata\":{}}]}"
        },
        {
         "metadata": "{}",
         "name": "clusterId",
         "type": "\"string\""
        },
        {
         "metadata": "{}",
         "name": "readVersion",
         "type": "\"long\""
        },
        {
         "metadata": "{}",
         "name": "isolationLevel",
         "type": "\"string\""
        },
        {
         "metadata": "{}",
         "name": "isBlindAppend",
         "type": "\"boolean\""
        },
        {
         "metadata": "{}",
         "name": "operationMetrics",
         "type": "{\"type\":\"map\",\"keyType\":\"string\",\"valueType\":\"string\",\"valueContainsNull\":true}"
        },
        {
         "metadata": "{}",
         "name": "userMetadata",
         "type": "\"string\""
        },
        {
         "metadata": "{}",
         "name": "engineInfo",
         "type": "\"string\""
        }
       ],
       "type": "table"
      }
     },
     "output_type": "display_data"
    }
   ],
   "source": [
    "%sql\n",
    "\n",
    "describe history \"/FileStore/tables/delta/schema_evolution/delta\""
   ]
  },
  {
   "cell_type": "markdown",
   "metadata": {
    "application/vnd.databricks.v1+cell": {
     "cellMetadata": {},
     "inputWidgets": {},
     "nuid": "47007ced-d0c6-4045-bd49-73c72d6d70c0",
     "showTitle": false,
     "title": ""
    }
   },
   "source": [
    "## Listando todas as versões que podemos utilizar"
   ]
  },
  {
   "cell_type": "code",
   "execution_count": 0,
   "metadata": {
    "application/vnd.databricks.v1+cell": {
     "cellMetadata": {
      "byteLimit": 2048000,
      "implicitDf": true,
      "rowLimit": 10000
     },
     "inputWidgets": {},
     "nuid": "f3f1adb6-2303-4214-9393-8eac8a0af3b6",
     "showTitle": false,
     "title": ""
    }
   },
   "outputs": [
    {
     "output_type": "display_data",
     "data": {
      "text/html": [
       "<style scoped>\n",
       "  .table-result-container {\n",
       "    max-height: 300px;\n",
       "    overflow: auto;\n",
       "  }\n",
       "  table, th, td {\n",
       "    border: 1px solid black;\n",
       "    border-collapse: collapse;\n",
       "  }\n",
       "  th, td {\n",
       "    padding: 5px;\n",
       "  }\n",
       "  th {\n",
       "    text-align: left;\n",
       "  }\n",
       "</style><div class='table-result-container'><table class='table-result'><thead style='background-color: white'><tr><th>Funcionario</th><th>Salario</th><th>Setor</th><th>Comissao</th></tr></thead><tbody><tr><td>Carlos Fernandez</td><td>3400</td><td>null</td><td>null</td></tr><tr><td>Sandra Lemos</td><td>null</td><td>null</td><td>672</td></tr><tr><td>Carla Soares</td><td>null</td><td>null</td><td>966</td></tr><tr><td>Joao Santos</td><td>2000</td><td>null</td><td>null</td></tr><tr><td>null</td><td>null</td><td>Financeiro</td><td>240</td></tr><tr><td>null</td><td>null</td><td>Marketing</td><td>540</td></tr></tbody></table></div>"
      ]
     },
     "metadata": {
      "application/vnd.databricks.v1+output": {
       "addedWidgets": {},
       "aggData": [],
       "aggError": "",
       "aggOverflow": false,
       "aggSchema": [],
       "aggSeriesLimitReached": false,
       "aggType": "",
       "arguments": {},
       "columnCustomDisplayInfos": {},
       "data": [
        [
         "Carlos Fernandez",
         3400,
         null,
         null
        ],
        [
         "Sandra Lemos",
         null,
         null,
         672
        ],
        [
         "Carla Soares",
         null,
         null,
         966
        ],
        [
         "Joao Santos",
         2000,
         null,
         null
        ],
        [
         null,
         null,
         "Financeiro",
         240
        ],
        [
         null,
         null,
         "Marketing",
         540
        ]
       ],
       "datasetInfos": [],
       "dbfsResultPath": null,
       "isJsonSchema": true,
       "metadata": {},
       "overflow": false,
       "plotOptions": {
        "customPlotOptions": {},
        "displayType": "table",
        "pivotAggregation": null,
        "pivotColumns": null,
        "xColumns": null,
        "yColumns": null
       },
       "removedWidgets": [],
       "schema": [
        {
         "metadata": "{}",
         "name": "Funcionario",
         "type": "\"string\""
        },
        {
         "metadata": "{}",
         "name": "Salario",
         "type": "\"long\""
        },
        {
         "metadata": "{}",
         "name": "Setor",
         "type": "\"string\""
        },
        {
         "metadata": "{}",
         "name": "Comissao",
         "type": "\"long\""
        }
       ],
       "type": "table"
      }
     },
     "output_type": "display_data"
    }
   ],
   "source": [
    "\n",
    "%sql\n",
    "SELECT * FROM delta. `/FileStore/tables/delta/schema_evolution/delta` VERSION AS OF 2"
   ]
  },
  {
   "cell_type": "code",
   "execution_count": 0,
   "metadata": {
    "application/vnd.databricks.v1+cell": {
     "cellMetadata": {},
     "inputWidgets": {},
     "nuid": "18fc9d27-c051-4f62-9587-30420b58366b",
     "showTitle": false,
     "title": ""
    }
   },
   "outputs": [],
   "source": []
  }
 ],
 "metadata": {
  "application/vnd.databricks.v1+notebook": {
   "dashboards": [],
   "language": "python",
   "notebookMetadata": {
    "mostRecentlyExecutedCommandWithImplicitDF": {
     "commandId": 695144068266396,
     "dataframes": [
      "_sqldf"
     ]
    },
    "pythonIndentUnit": 4
   },
   "notebookName": "Curso D - Schema Evolutivo",
   "widgets": {}
  }
 },
 "nbformat": 4,
 "nbformat_minor": 0
}
