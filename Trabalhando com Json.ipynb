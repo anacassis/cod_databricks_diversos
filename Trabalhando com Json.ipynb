{
 "cells": [
  {
   "cell_type": "code",
   "execution_count": 0,
   "metadata": {
    "application/vnd.databricks.v1+cell": {
     "cellMetadata": {
      "byteLimit": 2048000,
      "rowLimit": 10000
     },
     "inputWidgets": {},
     "nuid": "72858c94-9413-49ea-be01-cc44cb746f71",
     "showTitle": false,
     "title": ""
    }
   },
   "outputs": [
    {
     "output_type": "display_data",
     "data": {
      "text/html": [
       "<style scoped>\n",
       "  .table-result-container {\n",
       "    max-height: 300px;\n",
       "    overflow: auto;\n",
       "  }\n",
       "  table, th, td {\n",
       "    border: 1px solid black;\n",
       "    border-collapse: collapse;\n",
       "  }\n",
       "  th, td {\n",
       "    padding: 5px;\n",
       "  }\n",
       "  th {\n",
       "    text-align: left;\n",
       "  }\n",
       "</style><div class='table-result-container'><table class='table-result'><thead style='background-color: white'><tr><th>path</th><th>name</th><th>size</th><th>modificationTime</th></tr></thead><tbody><tr><td>dbfs:/databricks-datasets/structured-streaming/events/file-0.json</td><td>file-0.json</td><td>72530</td><td>1469673865000</td></tr><tr><td>dbfs:/databricks-datasets/structured-streaming/events/file-1.json</td><td>file-1.json</td><td>72961</td><td>1469673866000</td></tr><tr><td>dbfs:/databricks-datasets/structured-streaming/events/file-10.json</td><td>file-10.json</td><td>73025</td><td>1469673878000</td></tr><tr><td>dbfs:/databricks-datasets/structured-streaming/events/file-11.json</td><td>file-11.json</td><td>72999</td><td>1469673879000</td></tr><tr><td>dbfs:/databricks-datasets/structured-streaming/events/file-12.json</td><td>file-12.json</td><td>72987</td><td>1469673880000</td></tr><tr><td>dbfs:/databricks-datasets/structured-streaming/events/file-13.json</td><td>file-13.json</td><td>73006</td><td>1469673881000</td></tr><tr><td>dbfs:/databricks-datasets/structured-streaming/events/file-14.json</td><td>file-14.json</td><td>73003</td><td>1469673882000</td></tr><tr><td>dbfs:/databricks-datasets/structured-streaming/events/file-15.json</td><td>file-15.json</td><td>73007</td><td>1469673883000</td></tr><tr><td>dbfs:/databricks-datasets/structured-streaming/events/file-16.json</td><td>file-16.json</td><td>72978</td><td>1469673885000</td></tr><tr><td>dbfs:/databricks-datasets/structured-streaming/events/file-17.json</td><td>file-17.json</td><td>73008</td><td>1469673886000</td></tr><tr><td>dbfs:/databricks-datasets/structured-streaming/events/file-18.json</td><td>file-18.json</td><td>73002</td><td>1469673887000</td></tr><tr><td>dbfs:/databricks-datasets/structured-streaming/events/file-19.json</td><td>file-19.json</td><td>73014</td><td>1469673888000</td></tr><tr><td>dbfs:/databricks-datasets/structured-streaming/events/file-2.json</td><td>file-2.json</td><td>73007</td><td>1469673868000</td></tr><tr><td>dbfs:/databricks-datasets/structured-streaming/events/file-20.json</td><td>file-20.json</td><td>72987</td><td>1469673889000</td></tr><tr><td>dbfs:/databricks-datasets/structured-streaming/events/file-21.json</td><td>file-21.json</td><td>72983</td><td>1469673891000</td></tr><tr><td>dbfs:/databricks-datasets/structured-streaming/events/file-22.json</td><td>file-22.json</td><td>73009</td><td>1469673892000</td></tr><tr><td>dbfs:/databricks-datasets/structured-streaming/events/file-23.json</td><td>file-23.json</td><td>72985</td><td>1469673893000</td></tr><tr><td>dbfs:/databricks-datasets/structured-streaming/events/file-24.json</td><td>file-24.json</td><td>73020</td><td>1469673894000</td></tr><tr><td>dbfs:/databricks-datasets/structured-streaming/events/file-25.json</td><td>file-25.json</td><td>72980</td><td>1469673895000</td></tr><tr><td>dbfs:/databricks-datasets/structured-streaming/events/file-26.json</td><td>file-26.json</td><td>73002</td><td>1469673897000</td></tr><tr><td>dbfs:/databricks-datasets/structured-streaming/events/file-27.json</td><td>file-27.json</td><td>73013</td><td>1469673898000</td></tr><tr><td>dbfs:/databricks-datasets/structured-streaming/events/file-28.json</td><td>file-28.json</td><td>73005</td><td>1469673899000</td></tr><tr><td>dbfs:/databricks-datasets/structured-streaming/events/file-29.json</td><td>file-29.json</td><td>72977</td><td>1469673900000</td></tr><tr><td>dbfs:/databricks-datasets/structured-streaming/events/file-3.json</td><td>file-3.json</td><td>72996</td><td>1469673869000</td></tr><tr><td>dbfs:/databricks-datasets/structured-streaming/events/file-30.json</td><td>file-30.json</td><td>73009</td><td>1469673902000</td></tr><tr><td>dbfs:/databricks-datasets/structured-streaming/events/file-31.json</td><td>file-31.json</td><td>73008</td><td>1469673903000</td></tr><tr><td>dbfs:/databricks-datasets/structured-streaming/events/file-32.json</td><td>file-32.json</td><td>72982</td><td>1469673904000</td></tr><tr><td>dbfs:/databricks-datasets/structured-streaming/events/file-33.json</td><td>file-33.json</td><td>73033</td><td>1469673905000</td></tr><tr><td>dbfs:/databricks-datasets/structured-streaming/events/file-34.json</td><td>file-34.json</td><td>72985</td><td>1469673907000</td></tr><tr><td>dbfs:/databricks-datasets/structured-streaming/events/file-35.json</td><td>file-35.json</td><td>72974</td><td>1469673908000</td></tr><tr><td>dbfs:/databricks-datasets/structured-streaming/events/file-36.json</td><td>file-36.json</td><td>73013</td><td>1469673909000</td></tr><tr><td>dbfs:/databricks-datasets/structured-streaming/events/file-37.json</td><td>file-37.json</td><td>72989</td><td>1469673910000</td></tr><tr><td>dbfs:/databricks-datasets/structured-streaming/events/file-38.json</td><td>file-38.json</td><td>72999</td><td>1469673911000</td></tr><tr><td>dbfs:/databricks-datasets/structured-streaming/events/file-39.json</td><td>file-39.json</td><td>73013</td><td>1469673913000</td></tr><tr><td>dbfs:/databricks-datasets/structured-streaming/events/file-4.json</td><td>file-4.json</td><td>72992</td><td>1469673870000</td></tr><tr><td>dbfs:/databricks-datasets/structured-streaming/events/file-40.json</td><td>file-40.json</td><td>72986</td><td>1469673914000</td></tr><tr><td>dbfs:/databricks-datasets/structured-streaming/events/file-41.json</td><td>file-41.json</td><td>73019</td><td>1469673915000</td></tr><tr><td>dbfs:/databricks-datasets/structured-streaming/events/file-42.json</td><td>file-42.json</td><td>72986</td><td>1469673916000</td></tr><tr><td>dbfs:/databricks-datasets/structured-streaming/events/file-43.json</td><td>file-43.json</td><td>72990</td><td>1469673918000</td></tr><tr><td>dbfs:/databricks-datasets/structured-streaming/events/file-44.json</td><td>file-44.json</td><td>73018</td><td>1469673919000</td></tr><tr><td>dbfs:/databricks-datasets/structured-streaming/events/file-45.json</td><td>file-45.json</td><td>72997</td><td>1469673921000</td></tr><tr><td>dbfs:/databricks-datasets/structured-streaming/events/file-46.json</td><td>file-46.json</td><td>72991</td><td>1469673922000</td></tr><tr><td>dbfs:/databricks-datasets/structured-streaming/events/file-47.json</td><td>file-47.json</td><td>73009</td><td>1469673923000</td></tr><tr><td>dbfs:/databricks-datasets/structured-streaming/events/file-48.json</td><td>file-48.json</td><td>72993</td><td>1469673924000</td></tr><tr><td>dbfs:/databricks-datasets/structured-streaming/events/file-49.json</td><td>file-49.json</td><td>73496</td><td>1469673926000</td></tr><tr><td>dbfs:/databricks-datasets/structured-streaming/events/file-5.json</td><td>file-5.json</td><td>72998</td><td>1469673871000</td></tr><tr><td>dbfs:/databricks-datasets/structured-streaming/events/file-6.json</td><td>file-6.json</td><td>72997</td><td>1469673873000</td></tr><tr><td>dbfs:/databricks-datasets/structured-streaming/events/file-7.json</td><td>file-7.json</td><td>73022</td><td>1469673874000</td></tr><tr><td>dbfs:/databricks-datasets/structured-streaming/events/file-8.json</td><td>file-8.json</td><td>72997</td><td>1469673875000</td></tr><tr><td>dbfs:/databricks-datasets/structured-streaming/events/file-9.json</td><td>file-9.json</td><td>72970</td><td>1469673876000</td></tr></tbody></table></div>"
      ]
     },
     "metadata": {
      "application/vnd.databricks.v1+output": {
       "addedWidgets": {},
       "aggData": [],
       "aggError": "",
       "aggOverflow": false,
       "aggSchema": [],
       "aggSeriesLimitReached": false,
       "aggType": "",
       "arguments": {},
       "columnCustomDisplayInfos": {},
       "data": [
        [
         "dbfs:/databricks-datasets/structured-streaming/events/file-0.json",
         "file-0.json",
         72530,
         1469673865000
        ],
        [
         "dbfs:/databricks-datasets/structured-streaming/events/file-1.json",
         "file-1.json",
         72961,
         1469673866000
        ],
        [
         "dbfs:/databricks-datasets/structured-streaming/events/file-10.json",
         "file-10.json",
         73025,
         1469673878000
        ],
        [
         "dbfs:/databricks-datasets/structured-streaming/events/file-11.json",
         "file-11.json",
         72999,
         1469673879000
        ],
        [
         "dbfs:/databricks-datasets/structured-streaming/events/file-12.json",
         "file-12.json",
         72987,
         1469673880000
        ],
        [
         "dbfs:/databricks-datasets/structured-streaming/events/file-13.json",
         "file-13.json",
         73006,
         1469673881000
        ],
        [
         "dbfs:/databricks-datasets/structured-streaming/events/file-14.json",
         "file-14.json",
         73003,
         1469673882000
        ],
        [
         "dbfs:/databricks-datasets/structured-streaming/events/file-15.json",
         "file-15.json",
         73007,
         1469673883000
        ],
        [
         "dbfs:/databricks-datasets/structured-streaming/events/file-16.json",
         "file-16.json",
         72978,
         1469673885000
        ],
        [
         "dbfs:/databricks-datasets/structured-streaming/events/file-17.json",
         "file-17.json",
         73008,
         1469673886000
        ],
        [
         "dbfs:/databricks-datasets/structured-streaming/events/file-18.json",
         "file-18.json",
         73002,
         1469673887000
        ],
        [
         "dbfs:/databricks-datasets/structured-streaming/events/file-19.json",
         "file-19.json",
         73014,
         1469673888000
        ],
        [
         "dbfs:/databricks-datasets/structured-streaming/events/file-2.json",
         "file-2.json",
         73007,
         1469673868000
        ],
        [
         "dbfs:/databricks-datasets/structured-streaming/events/file-20.json",
         "file-20.json",
         72987,
         1469673889000
        ],
        [
         "dbfs:/databricks-datasets/structured-streaming/events/file-21.json",
         "file-21.json",
         72983,
         1469673891000
        ],
        [
         "dbfs:/databricks-datasets/structured-streaming/events/file-22.json",
         "file-22.json",
         73009,
         1469673892000
        ],
        [
         "dbfs:/databricks-datasets/structured-streaming/events/file-23.json",
         "file-23.json",
         72985,
         1469673893000
        ],
        [
         "dbfs:/databricks-datasets/structured-streaming/events/file-24.json",
         "file-24.json",
         73020,
         1469673894000
        ],
        [
         "dbfs:/databricks-datasets/structured-streaming/events/file-25.json",
         "file-25.json",
         72980,
         1469673895000
        ],
        [
         "dbfs:/databricks-datasets/structured-streaming/events/file-26.json",
         "file-26.json",
         73002,
         1469673897000
        ],
        [
         "dbfs:/databricks-datasets/structured-streaming/events/file-27.json",
         "file-27.json",
         73013,
         1469673898000
        ],
        [
         "dbfs:/databricks-datasets/structured-streaming/events/file-28.json",
         "file-28.json",
         73005,
         1469673899000
        ],
        [
         "dbfs:/databricks-datasets/structured-streaming/events/file-29.json",
         "file-29.json",
         72977,
         1469673900000
        ],
        [
         "dbfs:/databricks-datasets/structured-streaming/events/file-3.json",
         "file-3.json",
         72996,
         1469673869000
        ],
        [
         "dbfs:/databricks-datasets/structured-streaming/events/file-30.json",
         "file-30.json",
         73009,
         1469673902000
        ],
        [
         "dbfs:/databricks-datasets/structured-streaming/events/file-31.json",
         "file-31.json",
         73008,
         1469673903000
        ],
        [
         "dbfs:/databricks-datasets/structured-streaming/events/file-32.json",
         "file-32.json",
         72982,
         1469673904000
        ],
        [
         "dbfs:/databricks-datasets/structured-streaming/events/file-33.json",
         "file-33.json",
         73033,
         1469673905000
        ],
        [
         "dbfs:/databricks-datasets/structured-streaming/events/file-34.json",
         "file-34.json",
         72985,
         1469673907000
        ],
        [
         "dbfs:/databricks-datasets/structured-streaming/events/file-35.json",
         "file-35.json",
         72974,
         1469673908000
        ],
        [
         "dbfs:/databricks-datasets/structured-streaming/events/file-36.json",
         "file-36.json",
         73013,
         1469673909000
        ],
        [
         "dbfs:/databricks-datasets/structured-streaming/events/file-37.json",
         "file-37.json",
         72989,
         1469673910000
        ],
        [
         "dbfs:/databricks-datasets/structured-streaming/events/file-38.json",
         "file-38.json",
         72999,
         1469673911000
        ],
        [
         "dbfs:/databricks-datasets/structured-streaming/events/file-39.json",
         "file-39.json",
         73013,
         1469673913000
        ],
        [
         "dbfs:/databricks-datasets/structured-streaming/events/file-4.json",
         "file-4.json",
         72992,
         1469673870000
        ],
        [
         "dbfs:/databricks-datasets/structured-streaming/events/file-40.json",
         "file-40.json",
         72986,
         1469673914000
        ],
        [
         "dbfs:/databricks-datasets/structured-streaming/events/file-41.json",
         "file-41.json",
         73019,
         1469673915000
        ],
        [
         "dbfs:/databricks-datasets/structured-streaming/events/file-42.json",
         "file-42.json",
         72986,
         1469673916000
        ],
        [
         "dbfs:/databricks-datasets/structured-streaming/events/file-43.json",
         "file-43.json",
         72990,
         1469673918000
        ],
        [
         "dbfs:/databricks-datasets/structured-streaming/events/file-44.json",
         "file-44.json",
         73018,
         1469673919000
        ],
        [
         "dbfs:/databricks-datasets/structured-streaming/events/file-45.json",
         "file-45.json",
         72997,
         1469673921000
        ],
        [
         "dbfs:/databricks-datasets/structured-streaming/events/file-46.json",
         "file-46.json",
         72991,
         1469673922000
        ],
        [
         "dbfs:/databricks-datasets/structured-streaming/events/file-47.json",
         "file-47.json",
         73009,
         1469673923000
        ],
        [
         "dbfs:/databricks-datasets/structured-streaming/events/file-48.json",
         "file-48.json",
         72993,
         1469673924000
        ],
        [
         "dbfs:/databricks-datasets/structured-streaming/events/file-49.json",
         "file-49.json",
         73496,
         1469673926000
        ],
        [
         "dbfs:/databricks-datasets/structured-streaming/events/file-5.json",
         "file-5.json",
         72998,
         1469673871000
        ],
        [
         "dbfs:/databricks-datasets/structured-streaming/events/file-6.json",
         "file-6.json",
         72997,
         1469673873000
        ],
        [
         "dbfs:/databricks-datasets/structured-streaming/events/file-7.json",
         "file-7.json",
         73022,
         1469673874000
        ],
        [
         "dbfs:/databricks-datasets/structured-streaming/events/file-8.json",
         "file-8.json",
         72997,
         1469673875000
        ],
        [
         "dbfs:/databricks-datasets/structured-streaming/events/file-9.json",
         "file-9.json",
         72970,
         1469673876000
        ]
       ],
       "datasetInfos": [],
       "dbfsResultPath": null,
       "isJsonSchema": true,
       "metadata": {
        "isDbfsCommandResult": false
       },
       "overflow": false,
       "plotOptions": {
        "customPlotOptions": {},
        "displayType": "table",
        "pivotAggregation": null,
        "pivotColumns": null,
        "xColumns": null,
        "yColumns": null
       },
       "removedWidgets": [],
       "schema": [
        {
         "metadata": "{}",
         "name": "path",
         "type": "\"string\""
        },
        {
         "metadata": "{}",
         "name": "name",
         "type": "\"string\""
        },
        {
         "metadata": "{}",
         "name": "size",
         "type": "\"long\""
        },
        {
         "metadata": "{}",
         "name": "modificationTime",
         "type": "\"long\""
        }
       ],
       "type": "table"
      }
     },
     "output_type": "display_data"
    }
   ],
   "source": [
    "%fs ls /databricks-datasets/structured-streaming/events/"
   ]
  },
  {
   "cell_type": "code",
   "execution_count": 0,
   "metadata": {
    "application/vnd.databricks.v1+cell": {
     "cellMetadata": {
      "byteLimit": 2048000,
      "rowLimit": 10000
     },
     "inputWidgets": {},
     "nuid": "8f5923d5-cde7-4a0a-a8d8-b509d35141c0",
     "showTitle": false,
     "title": ""
    }
   },
   "outputs": [
    {
     "output_type": "stream",
     "name": "stdout",
     "output_type": "stream",
     "text": [
      "root\n |-- action: string (nullable = true)\n |-- time: long (nullable = true)\n\n+------+----------+\n|action|      time|\n+------+----------+\n| Close|1469506633|\n| Close|1469506636|\n|  Open|1469506642|\n|  Open|1469506644|\n|  Open|1469506646|\n|  Open|1469506647|\n|  Open|1469506648|\n|  Open|1469506651|\n| Close|1469506653|\n|  Open|1469506653|\n|  Open|1469506656|\n|  Open|1469506659|\n|  Open|1469506659|\n| Close|1469506660|\n| Close|1469506660|\n|  Open|1469506662|\n| Close|1469506668|\n| Close|1469506669|\n|  Open|1469506670|\n|  Open|1469506670|\n+------+----------+\nonly showing top 20 rows\n\n"
     ]
    }
   ],
   "source": [
    "data_json = spark.read.json('/databricks-datasets/structured-streaming/events/file-1.json')\n",
    "data_json.printSchema()\n",
    "data_json.show()"
   ]
  },
  {
   "cell_type": "code",
   "execution_count": 0,
   "metadata": {
    "application/vnd.databricks.v1+cell": {
     "cellMetadata": {
      "byteLimit": 2048000,
      "rowLimit": 10000
     },
     "inputWidgets": {},
     "nuid": "2167c18b-dfd4-446b-b799-7ec58af306ee",
     "showTitle": false,
     "title": ""
    }
   },
   "outputs": [
    {
     "output_type": "stream",
     "name": "stdout",
     "output_type": "stream",
     "text": [
      "root\n |-- action: string (nullable = true)\n |-- time: long (nullable = true)\n\n+------+----------+\n|action|      time|\n+------+----------+\n| Close|1469506633|\n| Close|1469506636|\n|  Open|1469506642|\n|  Open|1469506644|\n|  Open|1469506646|\n|  Open|1469506647|\n|  Open|1469506648|\n|  Open|1469506651|\n| Close|1469506653|\n|  Open|1469506653|\n|  Open|1469506656|\n|  Open|1469506659|\n|  Open|1469506659|\n| Close|1469506660|\n| Close|1469506660|\n|  Open|1469506662|\n| Close|1469506668|\n| Close|1469506669|\n|  Open|1469506670|\n|  Open|1469506670|\n+------+----------+\nonly showing top 20 rows\n\n"
     ]
    }
   ],
   "source": [
    "data_json2 = spark.read.json(['/databricks-datasets/structured-streaming/events/file-1.json','dbfs:/databricks-datasets/structured-streaming/events/file-0.json'])\n",
    "data_json2.printSchema()\n",
    "data_json2.show()"
   ]
  },
  {
   "cell_type": "code",
   "execution_count": 0,
   "metadata": {
    "application/vnd.databricks.v1+cell": {
     "cellMetadata": {
      "byteLimit": 2048000,
      "rowLimit": 10000
     },
     "inputWidgets": {},
     "nuid": "1181e9b8-44f5-4f36-9d02-93887e0db8b1",
     "showTitle": false,
     "title": ""
    }
   },
   "outputs": [
    {
     "output_type": "stream",
     "name": "stdout",
     "output_type": "stream",
     "text": [
      "root\n |-- action: string (nullable = true)\n |-- time: long (nullable = true)\n\n+------+----------+\n|action|      time|\n+------+----------+\n| Close|1469679568|\n| Close|1469679568|\n|  Open|1469679569|\n| Close|1469679571|\n|  Open|1469679571|\n|  Open|1469679571|\n| Close|1469679572|\n| Close|1469679573|\n| Close|1469679575|\n|  Open|1469679576|\n| Close|1469679578|\n|  Open|1469679580|\n| Close|1469679581|\n|  Open|1469679582|\n|  Open|1469679585|\n|  Open|1469679587|\n|  Open|1469679588|\n|  Open|1469679589|\n|  Open|1469679595|\n| Close|1469679600|\n+------+----------+\nonly showing top 20 rows\n\n"
     ]
    }
   ],
   "source": [
    "data_json3 = spark.read.json('/databricks-datasets/structured-streaming/events/*.json')\n",
    "data_json3.printSchema()\n",
    "data_json3.show()"
   ]
  },
  {
   "cell_type": "code",
   "execution_count": 0,
   "metadata": {
    "application/vnd.databricks.v1+cell": {
     "cellMetadata": {
      "byteLimit": 2048000,
      "rowLimit": 10000
     },
     "inputWidgets": {},
     "nuid": "dd4cfb63-fa66-4b61-bd11-59847409398d",
     "showTitle": true,
     "title": "Unificando todos os arquivos que foram guardados no dataframe como json"
    }
   },
   "outputs": [],
   "source": [
    "data_json3.write.json(\"fileStore/table/JSON/eventos.json\")"
   ]
  },
  {
   "cell_type": "code",
   "execution_count": 0,
   "metadata": {
    "application/vnd.databricks.v1+cell": {
     "cellMetadata": {
      "byteLimit": 2048000,
      "rowLimit": 10000
     },
     "inputWidgets": {},
     "nuid": "858475c6-c27a-4ea0-ae44-b3ad549be7c6",
     "showTitle": true,
     "title": "Criação de uma tabela para executar SQL"
    }
   },
   "outputs": [
    {
     "output_type": "stream",
     "name": "stdout",
     "output_type": "stream",
     "text": [
      "+------+\n|action|\n+------+\n| Close|\n| Close|\n|  Open|\n| Close|\n|  Open|\n|  Open|\n| Close|\n| Close|\n| Close|\n|  Open|\n| Close|\n|  Open|\n| Close|\n|  Open|\n|  Open|\n|  Open|\n|  Open|\n|  Open|\n|  Open|\n| Close|\n+------+\nonly showing top 20 rows\n\n"
     ]
    }
   ],
   "source": [
    "spark.sql(\"CREATE OR REPLACE TEMPORARY VIEW view_evento USING json OPTIONS\" + \"(path '/fileStore/table/JSON/eventos.json')\")\n",
    "\n",
    "spark.sql(\"SELECT action FROM view_evento\").show()"
   ]
  },
  {
   "cell_type": "code",
   "execution_count": 0,
   "metadata": {
    "application/vnd.databricks.v1+cell": {
     "cellMetadata": {},
     "inputWidgets": {},
     "nuid": "5d378d0f-e0c5-433e-8ebb-52e6894aedf6",
     "showTitle": false,
     "title": ""
    }
   },
   "outputs": [],
   "source": []
  }
 ],
 "metadata": {
  "application/vnd.databricks.v1+notebook": {
   "dashboards": [],
   "language": "python",
   "notebookMetadata": {
    "mostRecentlyExecutedCommandWithImplicitDF": {
     "commandId": 2733639443686417,
     "dataframes": [
      "_sqldf"
     ]
    },
    "pythonIndentUnit": 4
   },
   "notebookName": "Curso D - Json",
   "widgets": {}
  }
 },
 "nbformat": 4,
 "nbformat_minor": 0
}
