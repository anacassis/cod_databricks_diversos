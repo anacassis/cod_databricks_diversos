{
 "cells": [
  {
   "cell_type": "code",
   "execution_count": 0,
   "metadata": {
    "application/vnd.databricks.v1+cell": {
     "cellMetadata": {
      "byteLimit": 2048000,
      "rowLimit": 10000
     },
     "inputWidgets": {},
     "nuid": "fbcab052-9735-467e-8202-f3e4957aacf2",
     "showTitle": false,
     "title": ""
    }
   },
   "outputs": [],
   "source": [
    "#Eliminando arquivos caso existam nas pastas, pois serão destinados as tabelas Delta\n",
    "#%fs rm -r /tmp/delta/events\n",
    "#%fs rm -r /tmp/delta/checkpoint\n",
    "\n",
    "# Listando os diversos arquivos Json para carga no Delta Lake\n",
    "#%fs ls /databricks-datasets/structured-streaming/events/\n"
   ]
  },
  {
   "cell_type": "code",
   "execution_count": 0,
   "metadata": {
    "application/vnd.databricks.v1+cell": {
     "cellMetadata": {
      "byteLimit": 2048000,
      "rowLimit": 10000
     },
     "inputWidgets": {},
     "nuid": "bbcf5bdb-5709-4b7a-9131-d8833dd89dfc",
     "showTitle": false,
     "title": ""
    }
   },
   "outputs": [
    {
     "output_type": "display_data",
     "data": {
      "text/html": [
       "<style scoped>\n",
       "  .table-result-container {\n",
       "    max-height: 300px;\n",
       "    overflow: auto;\n",
       "  }\n",
       "  table, th, td {\n",
       "    border: 1px solid black;\n",
       "    border-collapse: collapse;\n",
       "  }\n",
       "  th, td {\n",
       "    padding: 5px;\n",
       "  }\n",
       "  th {\n",
       "    text-align: left;\n",
       "  }\n",
       "</style><div class='table-result-container'><table class='table-result'><thead style='background-color: white'><tr><th>path</th><th>name</th><th>size</th><th>modificationTime</th></tr></thead><tbody><tr><td>dbfs:/databricks-datasets/structured-streaming/events/file-0.json</td><td>file-0.json</td><td>72530</td><td>1469673865000</td></tr><tr><td>dbfs:/databricks-datasets/structured-streaming/events/file-1.json</td><td>file-1.json</td><td>72961</td><td>1469673866000</td></tr><tr><td>dbfs:/databricks-datasets/structured-streaming/events/file-10.json</td><td>file-10.json</td><td>73025</td><td>1469673878000</td></tr><tr><td>dbfs:/databricks-datasets/structured-streaming/events/file-11.json</td><td>file-11.json</td><td>72999</td><td>1469673879000</td></tr><tr><td>dbfs:/databricks-datasets/structured-streaming/events/file-12.json</td><td>file-12.json</td><td>72987</td><td>1469673880000</td></tr><tr><td>dbfs:/databricks-datasets/structured-streaming/events/file-13.json</td><td>file-13.json</td><td>73006</td><td>1469673881000</td></tr><tr><td>dbfs:/databricks-datasets/structured-streaming/events/file-14.json</td><td>file-14.json</td><td>73003</td><td>1469673882000</td></tr><tr><td>dbfs:/databricks-datasets/structured-streaming/events/file-15.json</td><td>file-15.json</td><td>73007</td><td>1469673883000</td></tr><tr><td>dbfs:/databricks-datasets/structured-streaming/events/file-16.json</td><td>file-16.json</td><td>72978</td><td>1469673885000</td></tr><tr><td>dbfs:/databricks-datasets/structured-streaming/events/file-17.json</td><td>file-17.json</td><td>73008</td><td>1469673886000</td></tr><tr><td>dbfs:/databricks-datasets/structured-streaming/events/file-18.json</td><td>file-18.json</td><td>73002</td><td>1469673887000</td></tr><tr><td>dbfs:/databricks-datasets/structured-streaming/events/file-19.json</td><td>file-19.json</td><td>73014</td><td>1469673888000</td></tr><tr><td>dbfs:/databricks-datasets/structured-streaming/events/file-2.json</td><td>file-2.json</td><td>73007</td><td>1469673868000</td></tr><tr><td>dbfs:/databricks-datasets/structured-streaming/events/file-20.json</td><td>file-20.json</td><td>72987</td><td>1469673889000</td></tr><tr><td>dbfs:/databricks-datasets/structured-streaming/events/file-21.json</td><td>file-21.json</td><td>72983</td><td>1469673891000</td></tr><tr><td>dbfs:/databricks-datasets/structured-streaming/events/file-22.json</td><td>file-22.json</td><td>73009</td><td>1469673892000</td></tr><tr><td>dbfs:/databricks-datasets/structured-streaming/events/file-23.json</td><td>file-23.json</td><td>72985</td><td>1469673893000</td></tr><tr><td>dbfs:/databricks-datasets/structured-streaming/events/file-24.json</td><td>file-24.json</td><td>73020</td><td>1469673894000</td></tr><tr><td>dbfs:/databricks-datasets/structured-streaming/events/file-25.json</td><td>file-25.json</td><td>72980</td><td>1469673895000</td></tr><tr><td>dbfs:/databricks-datasets/structured-streaming/events/file-26.json</td><td>file-26.json</td><td>73002</td><td>1469673897000</td></tr><tr><td>dbfs:/databricks-datasets/structured-streaming/events/file-27.json</td><td>file-27.json</td><td>73013</td><td>1469673898000</td></tr><tr><td>dbfs:/databricks-datasets/structured-streaming/events/file-28.json</td><td>file-28.json</td><td>73005</td><td>1469673899000</td></tr><tr><td>dbfs:/databricks-datasets/structured-streaming/events/file-29.json</td><td>file-29.json</td><td>72977</td><td>1469673900000</td></tr><tr><td>dbfs:/databricks-datasets/structured-streaming/events/file-3.json</td><td>file-3.json</td><td>72996</td><td>1469673869000</td></tr><tr><td>dbfs:/databricks-datasets/structured-streaming/events/file-30.json</td><td>file-30.json</td><td>73009</td><td>1469673902000</td></tr><tr><td>dbfs:/databricks-datasets/structured-streaming/events/file-31.json</td><td>file-31.json</td><td>73008</td><td>1469673903000</td></tr><tr><td>dbfs:/databricks-datasets/structured-streaming/events/file-32.json</td><td>file-32.json</td><td>72982</td><td>1469673904000</td></tr><tr><td>dbfs:/databricks-datasets/structured-streaming/events/file-33.json</td><td>file-33.json</td><td>73033</td><td>1469673905000</td></tr><tr><td>dbfs:/databricks-datasets/structured-streaming/events/file-34.json</td><td>file-34.json</td><td>72985</td><td>1469673907000</td></tr><tr><td>dbfs:/databricks-datasets/structured-streaming/events/file-35.json</td><td>file-35.json</td><td>72974</td><td>1469673908000</td></tr><tr><td>dbfs:/databricks-datasets/structured-streaming/events/file-36.json</td><td>file-36.json</td><td>73013</td><td>1469673909000</td></tr><tr><td>dbfs:/databricks-datasets/structured-streaming/events/file-37.json</td><td>file-37.json</td><td>72989</td><td>1469673910000</td></tr><tr><td>dbfs:/databricks-datasets/structured-streaming/events/file-38.json</td><td>file-38.json</td><td>72999</td><td>1469673911000</td></tr><tr><td>dbfs:/databricks-datasets/structured-streaming/events/file-39.json</td><td>file-39.json</td><td>73013</td><td>1469673913000</td></tr><tr><td>dbfs:/databricks-datasets/structured-streaming/events/file-4.json</td><td>file-4.json</td><td>72992</td><td>1469673870000</td></tr><tr><td>dbfs:/databricks-datasets/structured-streaming/events/file-40.json</td><td>file-40.json</td><td>72986</td><td>1469673914000</td></tr><tr><td>dbfs:/databricks-datasets/structured-streaming/events/file-41.json</td><td>file-41.json</td><td>73019</td><td>1469673915000</td></tr><tr><td>dbfs:/databricks-datasets/structured-streaming/events/file-42.json</td><td>file-42.json</td><td>72986</td><td>1469673916000</td></tr><tr><td>dbfs:/databricks-datasets/structured-streaming/events/file-43.json</td><td>file-43.json</td><td>72990</td><td>1469673918000</td></tr><tr><td>dbfs:/databricks-datasets/structured-streaming/events/file-44.json</td><td>file-44.json</td><td>73018</td><td>1469673919000</td></tr><tr><td>dbfs:/databricks-datasets/structured-streaming/events/file-45.json</td><td>file-45.json</td><td>72997</td><td>1469673921000</td></tr><tr><td>dbfs:/databricks-datasets/structured-streaming/events/file-46.json</td><td>file-46.json</td><td>72991</td><td>1469673922000</td></tr><tr><td>dbfs:/databricks-datasets/structured-streaming/events/file-47.json</td><td>file-47.json</td><td>73009</td><td>1469673923000</td></tr><tr><td>dbfs:/databricks-datasets/structured-streaming/events/file-48.json</td><td>file-48.json</td><td>72993</td><td>1469673924000</td></tr><tr><td>dbfs:/databricks-datasets/structured-streaming/events/file-49.json</td><td>file-49.json</td><td>73496</td><td>1469673926000</td></tr><tr><td>dbfs:/databricks-datasets/structured-streaming/events/file-5.json</td><td>file-5.json</td><td>72998</td><td>1469673871000</td></tr><tr><td>dbfs:/databricks-datasets/structured-streaming/events/file-6.json</td><td>file-6.json</td><td>72997</td><td>1469673873000</td></tr><tr><td>dbfs:/databricks-datasets/structured-streaming/events/file-7.json</td><td>file-7.json</td><td>73022</td><td>1469673874000</td></tr><tr><td>dbfs:/databricks-datasets/structured-streaming/events/file-8.json</td><td>file-8.json</td><td>72997</td><td>1469673875000</td></tr><tr><td>dbfs:/databricks-datasets/structured-streaming/events/file-9.json</td><td>file-9.json</td><td>72970</td><td>1469673876000</td></tr></tbody></table></div>"
      ]
     },
     "metadata": {
      "application/vnd.databricks.v1+output": {
       "addedWidgets": {},
       "aggData": [],
       "aggError": "",
       "aggOverflow": false,
       "aggSchema": [],
       "aggSeriesLimitReached": false,
       "aggType": "",
       "arguments": {},
       "columnCustomDisplayInfos": {},
       "data": [
        [
         "dbfs:/databricks-datasets/structured-streaming/events/file-0.json",
         "file-0.json",
         72530,
         1469673865000
        ],
        [
         "dbfs:/databricks-datasets/structured-streaming/events/file-1.json",
         "file-1.json",
         72961,
         1469673866000
        ],
        [
         "dbfs:/databricks-datasets/structured-streaming/events/file-10.json",
         "file-10.json",
         73025,
         1469673878000
        ],
        [
         "dbfs:/databricks-datasets/structured-streaming/events/file-11.json",
         "file-11.json",
         72999,
         1469673879000
        ],
        [
         "dbfs:/databricks-datasets/structured-streaming/events/file-12.json",
         "file-12.json",
         72987,
         1469673880000
        ],
        [
         "dbfs:/databricks-datasets/structured-streaming/events/file-13.json",
         "file-13.json",
         73006,
         1469673881000
        ],
        [
         "dbfs:/databricks-datasets/structured-streaming/events/file-14.json",
         "file-14.json",
         73003,
         1469673882000
        ],
        [
         "dbfs:/databricks-datasets/structured-streaming/events/file-15.json",
         "file-15.json",
         73007,
         1469673883000
        ],
        [
         "dbfs:/databricks-datasets/structured-streaming/events/file-16.json",
         "file-16.json",
         72978,
         1469673885000
        ],
        [
         "dbfs:/databricks-datasets/structured-streaming/events/file-17.json",
         "file-17.json",
         73008,
         1469673886000
        ],
        [
         "dbfs:/databricks-datasets/structured-streaming/events/file-18.json",
         "file-18.json",
         73002,
         1469673887000
        ],
        [
         "dbfs:/databricks-datasets/structured-streaming/events/file-19.json",
         "file-19.json",
         73014,
         1469673888000
        ],
        [
         "dbfs:/databricks-datasets/structured-streaming/events/file-2.json",
         "file-2.json",
         73007,
         1469673868000
        ],
        [
         "dbfs:/databricks-datasets/structured-streaming/events/file-20.json",
         "file-20.json",
         72987,
         1469673889000
        ],
        [
         "dbfs:/databricks-datasets/structured-streaming/events/file-21.json",
         "file-21.json",
         72983,
         1469673891000
        ],
        [
         "dbfs:/databricks-datasets/structured-streaming/events/file-22.json",
         "file-22.json",
         73009,
         1469673892000
        ],
        [
         "dbfs:/databricks-datasets/structured-streaming/events/file-23.json",
         "file-23.json",
         72985,
         1469673893000
        ],
        [
         "dbfs:/databricks-datasets/structured-streaming/events/file-24.json",
         "file-24.json",
         73020,
         1469673894000
        ],
        [
         "dbfs:/databricks-datasets/structured-streaming/events/file-25.json",
         "file-25.json",
         72980,
         1469673895000
        ],
        [
         "dbfs:/databricks-datasets/structured-streaming/events/file-26.json",
         "file-26.json",
         73002,
         1469673897000
        ],
        [
         "dbfs:/databricks-datasets/structured-streaming/events/file-27.json",
         "file-27.json",
         73013,
         1469673898000
        ],
        [
         "dbfs:/databricks-datasets/structured-streaming/events/file-28.json",
         "file-28.json",
         73005,
         1469673899000
        ],
        [
         "dbfs:/databricks-datasets/structured-streaming/events/file-29.json",
         "file-29.json",
         72977,
         1469673900000
        ],
        [
         "dbfs:/databricks-datasets/structured-streaming/events/file-3.json",
         "file-3.json",
         72996,
         1469673869000
        ],
        [
         "dbfs:/databricks-datasets/structured-streaming/events/file-30.json",
         "file-30.json",
         73009,
         1469673902000
        ],
        [
         "dbfs:/databricks-datasets/structured-streaming/events/file-31.json",
         "file-31.json",
         73008,
         1469673903000
        ],
        [
         "dbfs:/databricks-datasets/structured-streaming/events/file-32.json",
         "file-32.json",
         72982,
         1469673904000
        ],
        [
         "dbfs:/databricks-datasets/structured-streaming/events/file-33.json",
         "file-33.json",
         73033,
         1469673905000
        ],
        [
         "dbfs:/databricks-datasets/structured-streaming/events/file-34.json",
         "file-34.json",
         72985,
         1469673907000
        ],
        [
         "dbfs:/databricks-datasets/structured-streaming/events/file-35.json",
         "file-35.json",
         72974,
         1469673908000
        ],
        [
         "dbfs:/databricks-datasets/structured-streaming/events/file-36.json",
         "file-36.json",
         73013,
         1469673909000
        ],
        [
         "dbfs:/databricks-datasets/structured-streaming/events/file-37.json",
         "file-37.json",
         72989,
         1469673910000
        ],
        [
         "dbfs:/databricks-datasets/structured-streaming/events/file-38.json",
         "file-38.json",
         72999,
         1469673911000
        ],
        [
         "dbfs:/databricks-datasets/structured-streaming/events/file-39.json",
         "file-39.json",
         73013,
         1469673913000
        ],
        [
         "dbfs:/databricks-datasets/structured-streaming/events/file-4.json",
         "file-4.json",
         72992,
         1469673870000
        ],
        [
         "dbfs:/databricks-datasets/structured-streaming/events/file-40.json",
         "file-40.json",
         72986,
         1469673914000
        ],
        [
         "dbfs:/databricks-datasets/structured-streaming/events/file-41.json",
         "file-41.json",
         73019,
         1469673915000
        ],
        [
         "dbfs:/databricks-datasets/structured-streaming/events/file-42.json",
         "file-42.json",
         72986,
         1469673916000
        ],
        [
         "dbfs:/databricks-datasets/structured-streaming/events/file-43.json",
         "file-43.json",
         72990,
         1469673918000
        ],
        [
         "dbfs:/databricks-datasets/structured-streaming/events/file-44.json",
         "file-44.json",
         73018,
         1469673919000
        ],
        [
         "dbfs:/databricks-datasets/structured-streaming/events/file-45.json",
         "file-45.json",
         72997,
         1469673921000
        ],
        [
         "dbfs:/databricks-datasets/structured-streaming/events/file-46.json",
         "file-46.json",
         72991,
         1469673922000
        ],
        [
         "dbfs:/databricks-datasets/structured-streaming/events/file-47.json",
         "file-47.json",
         73009,
         1469673923000
        ],
        [
         "dbfs:/databricks-datasets/structured-streaming/events/file-48.json",
         "file-48.json",
         72993,
         1469673924000
        ],
        [
         "dbfs:/databricks-datasets/structured-streaming/events/file-49.json",
         "file-49.json",
         73496,
         1469673926000
        ],
        [
         "dbfs:/databricks-datasets/structured-streaming/events/file-5.json",
         "file-5.json",
         72998,
         1469673871000
        ],
        [
         "dbfs:/databricks-datasets/structured-streaming/events/file-6.json",
         "file-6.json",
         72997,
         1469673873000
        ],
        [
         "dbfs:/databricks-datasets/structured-streaming/events/file-7.json",
         "file-7.json",
         73022,
         1469673874000
        ],
        [
         "dbfs:/databricks-datasets/structured-streaming/events/file-8.json",
         "file-8.json",
         72997,
         1469673875000
        ],
        [
         "dbfs:/databricks-datasets/structured-streaming/events/file-9.json",
         "file-9.json",
         72970,
         1469673876000
        ]
       ],
       "datasetInfos": [],
       "dbfsResultPath": null,
       "isJsonSchema": true,
       "metadata": {
        "isDbfsCommandResult": false
       },
       "overflow": false,
       "plotOptions": {
        "customPlotOptions": {},
        "displayType": "table",
        "pivotAggregation": null,
        "pivotColumns": null,
        "xColumns": null,
        "yColumns": null
       },
       "removedWidgets": [],
       "schema": [
        {
         "metadata": "{}",
         "name": "path",
         "type": "\"string\""
        },
        {
         "metadata": "{}",
         "name": "name",
         "type": "\"string\""
        },
        {
         "metadata": "{}",
         "name": "size",
         "type": "\"long\""
        },
        {
         "metadata": "{}",
         "name": "modificationTime",
         "type": "\"long\""
        }
       ],
       "type": "table"
      }
     },
     "output_type": "display_data"
    }
   ],
   "source": [
    "\n",
    "%fs ls /databricks-datasets/structured-streaming/events/"
   ]
  },
  {
   "cell_type": "code",
   "execution_count": 0,
   "metadata": {
    "application/vnd.databricks.v1+cell": {
     "cellMetadata": {
      "byteLimit": 2048000,
      "rowLimit": 10000
     },
     "inputWidgets": {},
     "nuid": "f6aba8eb-be08-44e7-9c44-58d2a3b3ba85",
     "showTitle": false,
     "title": ""
    }
   },
   "outputs": [
    {
     "output_type": "stream",
     "name": "stdout",
     "output_type": "stream",
     "text": [
      "+------+----------+\n|action|      time|\n+------+----------+\n| Close|1469506633|\n| Close|1469506636|\n|  Open|1469506642|\n|  Open|1469506644|\n|  Open|1469506646|\n|  Open|1469506647|\n|  Open|1469506648|\n|  Open|1469506651|\n| Close|1469506653|\n|  Open|1469506653|\n|  Open|1469506656|\n|  Open|1469506659|\n|  Open|1469506659|\n| Close|1469506660|\n| Close|1469506660|\n|  Open|1469506662|\n| Close|1469506668|\n| Close|1469506669|\n|  Open|1469506670|\n|  Open|1469506670|\n+------+----------+\nonly showing top 20 rows\n\n"
     ]
    }
   ],
   "source": [
    "#Lendo um dos arquivos JSON\n",
    "dataf3 = spark.read.json(\"/databricks-datasets/structured-streaming/events/file-1.json\")\n",
    "dataf3.show()"
   ]
  },
  {
   "cell_type": "code",
   "execution_count": 0,
   "metadata": {
    "application/vnd.databricks.v1+cell": {
     "cellMetadata": {
      "byteLimit": 2048000,
      "implicitDf": true,
      "rowLimit": 10000
     },
     "inputWidgets": {},
     "nuid": "08a807e2-e268-4fa8-bc59-c65d1dc70d02",
     "showTitle": false,
     "title": ""
    }
   },
   "outputs": [
    {
     "output_type": "display_data",
     "data": {
      "text/html": [
       "<style scoped>\n",
       "  .table-result-container {\n",
       "    max-height: 300px;\n",
       "    overflow: auto;\n",
       "  }\n",
       "  table, th, td {\n",
       "    border: 1px solid black;\n",
       "    border-collapse: collapse;\n",
       "  }\n",
       "  th, td {\n",
       "    padding: 5px;\n",
       "  }\n",
       "  th {\n",
       "    text-align: left;\n",
       "  }\n",
       "</style><div class='table-result-container'><table class='table-result'><thead style='background-color: white'><tr></tr></thead><tbody></tbody></table></div>"
      ]
     },
     "metadata": {
      "application/vnd.databricks.v1+output": {
       "addedWidgets": {},
       "aggData": [],
       "aggError": "",
       "aggOverflow": false,
       "aggSchema": [],
       "aggSeriesLimitReached": false,
       "aggType": "",
       "arguments": {},
       "columnCustomDisplayInfos": {},
       "data": [],
       "datasetInfos": [],
       "dbfsResultPath": null,
       "isJsonSchema": true,
       "metadata": {},
       "overflow": false,
       "plotOptions": {
        "customPlotOptions": {},
        "displayType": "table",
        "pivotAggregation": null,
        "pivotColumns": null,
        "xColumns": null,
        "yColumns": null
       },
       "removedWidgets": [],
       "schema": [],
       "type": "table"
      }
     },
     "output_type": "display_data"
    }
   ],
   "source": [
    "%sql\n",
    "\n",
    "-- Criando um banco de dados em separado e uma tabela Delta que irá receber os dados do Json em Streaming\n",
    "CREATE DATABASE IF NOT EXISTS db_stream;\n",
    "USE db_stream;\n",
    "DROP TABLE IF EXISTS db_stream.tab_stream;\n",
    "CREATE TABLE db_stream.tab_stream(\n",
    " action STRING,\n",
    " time STRING\n",
    " )\n",
    "USING delta\n",
    "LOCATION \"/tmp/delta/events\"\n"
   ]
  },
  {
   "cell_type": "code",
   "execution_count": 0,
   "metadata": {
    "application/vnd.databricks.v1+cell": {
     "cellMetadata": {
      "byteLimit": 2048000,
      "rowLimit": 10000
     },
     "inputWidgets": {},
     "nuid": "35641c66-944b-4f6c-911d-cb09da25842c",
     "showTitle": false,
     "title": ""
    }
   },
   "outputs": [
    {
     "output_type": "stream",
     "name": "stdout",
     "output_type": "stream",
     "text": [
      "Out[10]: <pyspark.sql.streaming.query.StreamingQuery at 0x7f86ec91eca0>"
     ]
    }
   ],
   "source": [
    "# Executando a carga na pasta do Delta Lake, onde serão armazenados os dados\n",
    "from pyspark.sql.functions import *\n",
    "from pyspark.sql.types import *\n",
    "# Streaming reads and append into delta table (Start !)\n",
    "read_schema = StructType([\n",
    " StructField(\"action\", StringType(), False),\n",
    " StructField(\"time\", StringType(), True)\n",
    " ])\n",
    "\n",
    "df2 = (spark.readStream\n",
    " .option(\"maxFilesPerTrigger\", \"1\")\n",
    " .schema(read_schema)\n",
    " .json(\"/databricks-datasets/structured-streaming/events/\"))\n",
    "\n",
    "(df2.writeStream\n",
    " .format(\"delta\")\n",
    " .outputMode(\"append\")\n",
    " .option(\"checkpointLocation\", \"/tmp/delta/checkpoint\")\n",
    " .option(\"path\", \"/tmp/delta/events\").start())"
   ]
  },
  {
   "cell_type": "code",
   "execution_count": 0,
   "metadata": {
    "application/vnd.databricks.v1+cell": {
     "cellMetadata": {
      "byteLimit": 2048000,
      "implicitDf": true,
      "rowLimit": 10000
     },
     "inputWidgets": {},
     "nuid": "c98aa1f7-d00c-4c77-a5f7-21ffd4c4b718",
     "showTitle": false,
     "title": ""
    }
   },
   "outputs": [
    {
     "output_type": "display_data",
     "data": {
      "text/html": [
       "<style scoped>\n",
       "  .table-result-container {\n",
       "    max-height: 300px;\n",
       "    overflow: auto;\n",
       "  }\n",
       "  table, th, td {\n",
       "    border: 1px solid black;\n",
       "    border-collapse: collapse;\n",
       "  }\n",
       "  th, td {\n",
       "    padding: 5px;\n",
       "  }\n",
       "  th {\n",
       "    text-align: left;\n",
       "  }\n",
       "</style><div class='table-result-container'><table class='table-result'><thead style='background-color: white'><tr><th>action</th><th>count(1)</th></tr></thead><tbody><tr><td>Open</td><td>50000</td></tr><tr><td>Close</td><td>50000</td></tr></tbody></table></div>"
      ]
     },
     "metadata": {
      "application/vnd.databricks.v1+output": {
       "addedWidgets": {},
       "aggData": [],
       "aggError": "",
       "aggOverflow": false,
       "aggSchema": [],
       "aggSeriesLimitReached": false,
       "aggType": "",
       "arguments": {},
       "columnCustomDisplayInfos": {},
       "data": [
        [
         "Open",
         50000
        ],
        [
         "Close",
         50000
        ]
       ],
       "datasetInfos": [],
       "dbfsResultPath": null,
       "isJsonSchema": true,
       "metadata": {},
       "overflow": false,
       "plotOptions": {
        "customPlotOptions": {},
        "displayType": "table",
        "pivotAggregation": null,
        "pivotColumns": null,
        "xColumns": null,
        "yColumns": null
       },
       "removedWidgets": [],
       "schema": [
        {
         "metadata": "{}",
         "name": "action",
         "type": "\"string\""
        },
        {
         "metadata": "{\"__autoGeneratedAlias\":\"true\"}",
         "name": "count(1)",
         "type": "\"long\""
        }
       ],
       "type": "table"
      }
     },
     "output_type": "display_data"
    }
   ],
   "source": [
    "%sql\n",
    "-- Exibindo os dados em tempo real oriunda da tabela Delta\n",
    "\n",
    "select distinct action, count(*) from db_stream.tab_stream\n",
    "group by action\n"
   ]
  },
  {
   "cell_type": "code",
   "execution_count": 0,
   "metadata": {
    "application/vnd.databricks.v1+cell": {
     "cellMetadata": {
      "byteLimit": 2048000,
      "implicitDf": true,
      "rowLimit": 10000
     },
     "inputWidgets": {},
     "nuid": "d9f7ec33-ec6e-450b-a86a-68a308d551e0",
     "showTitle": false,
     "title": ""
    }
   },
   "outputs": [
    {
     "output_type": "display_data",
     "data": {
      "text/html": [
       "<style scoped>\n",
       "  .table-result-container {\n",
       "    max-height: 300px;\n",
       "    overflow: auto;\n",
       "  }\n",
       "  table, th, td {\n",
       "    border: 1px solid black;\n",
       "    border-collapse: collapse;\n",
       "  }\n",
       "  th, td {\n",
       "    padding: 5px;\n",
       "  }\n",
       "  th {\n",
       "    text-align: left;\n",
       "  }\n",
       "</style><div class='table-result-container'><table class='table-result'><thead style='background-color: white'><tr><th>version</th><th>timestamp</th><th>userId</th><th>userName</th><th>operation</th><th>operationParameters</th><th>job</th><th>notebook</th><th>clusterId</th><th>readVersion</th><th>isolationLevel</th><th>isBlindAppend</th><th>operationMetrics</th><th>userMetadata</th><th>engineInfo</th></tr></thead><tbody><tr><td>50</td><td>2024-02-21T21:12:18.000+0000</td><td>7406534468247714</td><td>anacadriano20@gmail.com</td><td>STREAMING UPDATE</td><td>Map(outputMode -> Append, queryId -> 11df48df-41ba-4d00-aaee-4ca41f34dedd, epochId -> 49)</td><td>null</td><td>List(1643776971945716)</td><td>0221-202852-us9uczep</td><td>49</td><td>WriteSerializable</td><td>true</td><td>Map(numRemovedFiles -> 0, numOutputRows -> 2000, numOutputBytes -> 12486, numAddedFiles -> 1)</td><td>null</td><td>Databricks-Runtime/12.2.x-scala2.12</td></tr><tr><td>49</td><td>2024-02-21T21:12:13.000+0000</td><td>7406534468247714</td><td>anacadriano20@gmail.com</td><td>STREAMING UPDATE</td><td>Map(outputMode -> Append, queryId -> 11df48df-41ba-4d00-aaee-4ca41f34dedd, epochId -> 48)</td><td>null</td><td>List(1643776971945716)</td><td>0221-202852-us9uczep</td><td>48</td><td>WriteSerializable</td><td>true</td><td>Map(numRemovedFiles -> 0, numOutputRows -> 2000, numOutputBytes -> 11682, numAddedFiles -> 1)</td><td>null</td><td>Databricks-Runtime/12.2.x-scala2.12</td></tr><tr><td>48</td><td>2024-02-21T21:12:09.000+0000</td><td>7406534468247714</td><td>anacadriano20@gmail.com</td><td>STREAMING UPDATE</td><td>Map(outputMode -> Append, queryId -> 11df48df-41ba-4d00-aaee-4ca41f34dedd, epochId -> 47)</td><td>null</td><td>List(1643776971945716)</td><td>0221-202852-us9uczep</td><td>47</td><td>WriteSerializable</td><td>true</td><td>Map(numRemovedFiles -> 0, numOutputRows -> 2000, numOutputBytes -> 11810, numAddedFiles -> 1)</td><td>null</td><td>Databricks-Runtime/12.2.x-scala2.12</td></tr><tr><td>47</td><td>2024-02-21T21:12:06.000+0000</td><td>7406534468247714</td><td>anacadriano20@gmail.com</td><td>STREAMING UPDATE</td><td>Map(outputMode -> Append, queryId -> 11df48df-41ba-4d00-aaee-4ca41f34dedd, epochId -> 46)</td><td>null</td><td>List(1643776971945716)</td><td>0221-202852-us9uczep</td><td>46</td><td>WriteSerializable</td><td>true</td><td>Map(numRemovedFiles -> 0, numOutputRows -> 2000, numOutputBytes -> 11501, numAddedFiles -> 1)</td><td>null</td><td>Databricks-Runtime/12.2.x-scala2.12</td></tr><tr><td>46</td><td>2024-02-21T21:12:02.000+0000</td><td>7406534468247714</td><td>anacadriano20@gmail.com</td><td>STREAMING UPDATE</td><td>Map(outputMode -> Append, queryId -> 11df48df-41ba-4d00-aaee-4ca41f34dedd, epochId -> 45)</td><td>null</td><td>List(1643776971945716)</td><td>0221-202852-us9uczep</td><td>45</td><td>WriteSerializable</td><td>true</td><td>Map(numRemovedFiles -> 0, numOutputRows -> 2000, numOutputBytes -> 11711, numAddedFiles -> 1)</td><td>null</td><td>Databricks-Runtime/12.2.x-scala2.12</td></tr><tr><td>45</td><td>2024-02-21T21:11:58.000+0000</td><td>7406534468247714</td><td>anacadriano20@gmail.com</td><td>STREAMING UPDATE</td><td>Map(outputMode -> Append, queryId -> 11df48df-41ba-4d00-aaee-4ca41f34dedd, epochId -> 44)</td><td>null</td><td>List(1643776971945716)</td><td>0221-202852-us9uczep</td><td>44</td><td>WriteSerializable</td><td>true</td><td>Map(numRemovedFiles -> 0, numOutputRows -> 2000, numOutputBytes -> 11731, numAddedFiles -> 1)</td><td>null</td><td>Databricks-Runtime/12.2.x-scala2.12</td></tr><tr><td>44</td><td>2024-02-21T21:11:54.000+0000</td><td>7406534468247714</td><td>anacadriano20@gmail.com</td><td>STREAMING UPDATE</td><td>Map(outputMode -> Append, queryId -> 11df48df-41ba-4d00-aaee-4ca41f34dedd, epochId -> 43)</td><td>null</td><td>List(1643776971945716)</td><td>0221-202852-us9uczep</td><td>43</td><td>WriteSerializable</td><td>true</td><td>Map(numRemovedFiles -> 0, numOutputRows -> 2000, numOutputBytes -> 11445, numAddedFiles -> 1)</td><td>null</td><td>Databricks-Runtime/12.2.x-scala2.12</td></tr><tr><td>43</td><td>2024-02-21T21:11:51.000+0000</td><td>7406534468247714</td><td>anacadriano20@gmail.com</td><td>STREAMING UPDATE</td><td>Map(outputMode -> Append, queryId -> 11df48df-41ba-4d00-aaee-4ca41f34dedd, epochId -> 42)</td><td>null</td><td>List(1643776971945716)</td><td>0221-202852-us9uczep</td><td>42</td><td>WriteSerializable</td><td>true</td><td>Map(numRemovedFiles -> 0, numOutputRows -> 2000, numOutputBytes -> 11634, numAddedFiles -> 1)</td><td>null</td><td>Databricks-Runtime/12.2.x-scala2.12</td></tr><tr><td>42</td><td>2024-02-21T21:11:46.000+0000</td><td>7406534468247714</td><td>anacadriano20@gmail.com</td><td>STREAMING UPDATE</td><td>Map(outputMode -> Append, queryId -> 11df48df-41ba-4d00-aaee-4ca41f34dedd, epochId -> 41)</td><td>null</td><td>List(1643776971945716)</td><td>0221-202852-us9uczep</td><td>41</td><td>WriteSerializable</td><td>true</td><td>Map(numRemovedFiles -> 0, numOutputRows -> 2000, numOutputBytes -> 11823, numAddedFiles -> 1)</td><td>null</td><td>Databricks-Runtime/12.2.x-scala2.12</td></tr><tr><td>41</td><td>2024-02-21T21:11:41.000+0000</td><td>7406534468247714</td><td>anacadriano20@gmail.com</td><td>STREAMING UPDATE</td><td>Map(outputMode -> Append, queryId -> 11df48df-41ba-4d00-aaee-4ca41f34dedd, epochId -> 40)</td><td>null</td><td>List(1643776971945716)</td><td>0221-202852-us9uczep</td><td>40</td><td>WriteSerializable</td><td>true</td><td>Map(numRemovedFiles -> 0, numOutputRows -> 2000, numOutputBytes -> 11538, numAddedFiles -> 1)</td><td>null</td><td>Databricks-Runtime/12.2.x-scala2.12</td></tr><tr><td>40</td><td>2024-02-21T21:11:36.000+0000</td><td>7406534468247714</td><td>anacadriano20@gmail.com</td><td>STREAMING UPDATE</td><td>Map(outputMode -> Append, queryId -> 11df48df-41ba-4d00-aaee-4ca41f34dedd, epochId -> 39)</td><td>null</td><td>List(1643776971945716)</td><td>0221-202852-us9uczep</td><td>39</td><td>WriteSerializable</td><td>true</td><td>Map(numRemovedFiles -> 0, numOutputRows -> 2000, numOutputBytes -> 11753, numAddedFiles -> 1)</td><td>null</td><td>Databricks-Runtime/12.2.x-scala2.12</td></tr><tr><td>39</td><td>2024-02-21T21:11:31.000+0000</td><td>7406534468247714</td><td>anacadriano20@gmail.com</td><td>STREAMING UPDATE</td><td>Map(outputMode -> Append, queryId -> 11df48df-41ba-4d00-aaee-4ca41f34dedd, epochId -> 38)</td><td>null</td><td>List(1643776971945716)</td><td>0221-202852-us9uczep</td><td>38</td><td>WriteSerializable</td><td>true</td><td>Map(numRemovedFiles -> 0, numOutputRows -> 2000, numOutputBytes -> 11766, numAddedFiles -> 1)</td><td>null</td><td>Databricks-Runtime/12.2.x-scala2.12</td></tr><tr><td>38</td><td>2024-02-21T21:11:28.000+0000</td><td>7406534468247714</td><td>anacadriano20@gmail.com</td><td>STREAMING UPDATE</td><td>Map(outputMode -> Append, queryId -> 11df48df-41ba-4d00-aaee-4ca41f34dedd, epochId -> 37)</td><td>null</td><td>List(1643776971945716)</td><td>0221-202852-us9uczep</td><td>37</td><td>WriteSerializable</td><td>true</td><td>Map(numRemovedFiles -> 0, numOutputRows -> 2000, numOutputBytes -> 11806, numAddedFiles -> 1)</td><td>null</td><td>Databricks-Runtime/12.2.x-scala2.12</td></tr><tr><td>37</td><td>2024-02-21T21:11:23.000+0000</td><td>7406534468247714</td><td>anacadriano20@gmail.com</td><td>STREAMING UPDATE</td><td>Map(outputMode -> Append, queryId -> 11df48df-41ba-4d00-aaee-4ca41f34dedd, epochId -> 36)</td><td>null</td><td>List(1643776971945716)</td><td>0221-202852-us9uczep</td><td>36</td><td>WriteSerializable</td><td>true</td><td>Map(numRemovedFiles -> 0, numOutputRows -> 2000, numOutputBytes -> 11763, numAddedFiles -> 1)</td><td>null</td><td>Databricks-Runtime/12.2.x-scala2.12</td></tr><tr><td>36</td><td>2024-02-21T21:11:20.000+0000</td><td>7406534468247714</td><td>anacadriano20@gmail.com</td><td>STREAMING UPDATE</td><td>Map(outputMode -> Append, queryId -> 11df48df-41ba-4d00-aaee-4ca41f34dedd, epochId -> 35)</td><td>null</td><td>List(1643776971945716)</td><td>0221-202852-us9uczep</td><td>35</td><td>WriteSerializable</td><td>true</td><td>Map(numRemovedFiles -> 0, numOutputRows -> 2000, numOutputBytes -> 11672, numAddedFiles -> 1)</td><td>null</td><td>Databricks-Runtime/12.2.x-scala2.12</td></tr><tr><td>35</td><td>2024-02-21T21:11:16.000+0000</td><td>7406534468247714</td><td>anacadriano20@gmail.com</td><td>STREAMING UPDATE</td><td>Map(outputMode -> Append, queryId -> 11df48df-41ba-4d00-aaee-4ca41f34dedd, epochId -> 34)</td><td>null</td><td>List(1643776971945716)</td><td>0221-202852-us9uczep</td><td>34</td><td>WriteSerializable</td><td>true</td><td>Map(numRemovedFiles -> 0, numOutputRows -> 2000, numOutputBytes -> 11853, numAddedFiles -> 1)</td><td>null</td><td>Databricks-Runtime/12.2.x-scala2.12</td></tr><tr><td>34</td><td>2024-02-21T21:11:11.000+0000</td><td>7406534468247714</td><td>anacadriano20@gmail.com</td><td>STREAMING UPDATE</td><td>Map(outputMode -> Append, queryId -> 11df48df-41ba-4d00-aaee-4ca41f34dedd, epochId -> 33)</td><td>null</td><td>List(1643776971945716)</td><td>0221-202852-us9uczep</td><td>33</td><td>WriteSerializable</td><td>true</td><td>Map(numRemovedFiles -> 0, numOutputRows -> 2000, numOutputBytes -> 11543, numAddedFiles -> 1)</td><td>null</td><td>Databricks-Runtime/12.2.x-scala2.12</td></tr><tr><td>33</td><td>2024-02-21T21:11:07.000+0000</td><td>7406534468247714</td><td>anacadriano20@gmail.com</td><td>STREAMING UPDATE</td><td>Map(outputMode -> Append, queryId -> 11df48df-41ba-4d00-aaee-4ca41f34dedd, epochId -> 32)</td><td>null</td><td>List(1643776971945716)</td><td>0221-202852-us9uczep</td><td>32</td><td>WriteSerializable</td><td>true</td><td>Map(numRemovedFiles -> 0, numOutputRows -> 2000, numOutputBytes -> 11445, numAddedFiles -> 1)</td><td>null</td><td>Databricks-Runtime/12.2.x-scala2.12</td></tr><tr><td>32</td><td>2024-02-21T21:11:03.000+0000</td><td>7406534468247714</td><td>anacadriano20@gmail.com</td><td>STREAMING UPDATE</td><td>Map(outputMode -> Append, queryId -> 11df48df-41ba-4d00-aaee-4ca41f34dedd, epochId -> 31)</td><td>null</td><td>List(1643776971945716)</td><td>0221-202852-us9uczep</td><td>31</td><td>WriteSerializable</td><td>true</td><td>Map(numRemovedFiles -> 0, numOutputRows -> 2000, numOutputBytes -> 11770, numAddedFiles -> 1)</td><td>null</td><td>Databricks-Runtime/12.2.x-scala2.12</td></tr><tr><td>31</td><td>2024-02-21T21:10:56.000+0000</td><td>7406534468247714</td><td>anacadriano20@gmail.com</td><td>STREAMING UPDATE</td><td>Map(outputMode -> Append, queryId -> 11df48df-41ba-4d00-aaee-4ca41f34dedd, epochId -> 30)</td><td>null</td><td>List(1643776971945716)</td><td>0221-202852-us9uczep</td><td>30</td><td>WriteSerializable</td><td>true</td><td>Map(numRemovedFiles -> 0, numOutputRows -> 2000, numOutputBytes -> 11797, numAddedFiles -> 1)</td><td>null</td><td>Databricks-Runtime/12.2.x-scala2.12</td></tr><tr><td>30</td><td>2024-02-21T21:10:50.000+0000</td><td>7406534468247714</td><td>anacadriano20@gmail.com</td><td>STREAMING UPDATE</td><td>Map(outputMode -> Append, queryId -> 11df48df-41ba-4d00-aaee-4ca41f34dedd, epochId -> 29)</td><td>null</td><td>List(1643776971945716)</td><td>0221-202852-us9uczep</td><td>29</td><td>WriteSerializable</td><td>true</td><td>Map(numRemovedFiles -> 0, numOutputRows -> 2000, numOutputBytes -> 11663, numAddedFiles -> 1)</td><td>null</td><td>Databricks-Runtime/12.2.x-scala2.12</td></tr><tr><td>29</td><td>2024-02-21T21:10:45.000+0000</td><td>7406534468247714</td><td>anacadriano20@gmail.com</td><td>STREAMING UPDATE</td><td>Map(outputMode -> Append, queryId -> 11df48df-41ba-4d00-aaee-4ca41f34dedd, epochId -> 28)</td><td>null</td><td>List(1643776971945716)</td><td>0221-202852-us9uczep</td><td>28</td><td>WriteSerializable</td><td>true</td><td>Map(numRemovedFiles -> 0, numOutputRows -> 2000, numOutputBytes -> 11861, numAddedFiles -> 1)</td><td>null</td><td>Databricks-Runtime/12.2.x-scala2.12</td></tr><tr><td>28</td><td>2024-02-21T21:10:35.000+0000</td><td>7406534468247714</td><td>anacadriano20@gmail.com</td><td>STREAMING UPDATE</td><td>Map(outputMode -> Append, queryId -> 11df48df-41ba-4d00-aaee-4ca41f34dedd, epochId -> 27)</td><td>null</td><td>List(1643776971945716)</td><td>0221-202852-us9uczep</td><td>27</td><td>WriteSerializable</td><td>true</td><td>Map(numRemovedFiles -> 0, numOutputRows -> 2000, numOutputBytes -> 11740, numAddedFiles -> 1)</td><td>null</td><td>Databricks-Runtime/12.2.x-scala2.12</td></tr><tr><td>27</td><td>2024-02-21T21:10:30.000+0000</td><td>7406534468247714</td><td>anacadriano20@gmail.com</td><td>STREAMING UPDATE</td><td>Map(outputMode -> Append, queryId -> 11df48df-41ba-4d00-aaee-4ca41f34dedd, epochId -> 26)</td><td>null</td><td>List(1643776971945716)</td><td>0221-202852-us9uczep</td><td>26</td><td>WriteSerializable</td><td>true</td><td>Map(numRemovedFiles -> 0, numOutputRows -> 2000, numOutputBytes -> 11585, numAddedFiles -> 1)</td><td>null</td><td>Databricks-Runtime/12.2.x-scala2.12</td></tr><tr><td>26</td><td>2024-02-21T21:10:25.000+0000</td><td>7406534468247714</td><td>anacadriano20@gmail.com</td><td>STREAMING UPDATE</td><td>Map(outputMode -> Append, queryId -> 11df48df-41ba-4d00-aaee-4ca41f34dedd, epochId -> 25)</td><td>null</td><td>List(1643776971945716)</td><td>0221-202852-us9uczep</td><td>25</td><td>WriteSerializable</td><td>true</td><td>Map(numRemovedFiles -> 0, numOutputRows -> 2000, numOutputBytes -> 11657, numAddedFiles -> 1)</td><td>null</td><td>Databricks-Runtime/12.2.x-scala2.12</td></tr><tr><td>25</td><td>2024-02-21T21:10:21.000+0000</td><td>7406534468247714</td><td>anacadriano20@gmail.com</td><td>STREAMING UPDATE</td><td>Map(outputMode -> Append, queryId -> 11df48df-41ba-4d00-aaee-4ca41f34dedd, epochId -> 24)</td><td>null</td><td>List(1643776971945716)</td><td>0221-202852-us9uczep</td><td>24</td><td>WriteSerializable</td><td>true</td><td>Map(numRemovedFiles -> 0, numOutputRows -> 2000, numOutputBytes -> 11683, numAddedFiles -> 1)</td><td>null</td><td>Databricks-Runtime/12.2.x-scala2.12</td></tr><tr><td>24</td><td>2024-02-21T21:10:17.000+0000</td><td>7406534468247714</td><td>anacadriano20@gmail.com</td><td>STREAMING UPDATE</td><td>Map(outputMode -> Append, queryId -> 11df48df-41ba-4d00-aaee-4ca41f34dedd, epochId -> 23)</td><td>null</td><td>List(1643776971945716)</td><td>0221-202852-us9uczep</td><td>23</td><td>WriteSerializable</td><td>true</td><td>Map(numRemovedFiles -> 0, numOutputRows -> 2000, numOutputBytes -> 11837, numAddedFiles -> 1)</td><td>null</td><td>Databricks-Runtime/12.2.x-scala2.12</td></tr><tr><td>23</td><td>2024-02-21T21:10:13.000+0000</td><td>7406534468247714</td><td>anacadriano20@gmail.com</td><td>STREAMING UPDATE</td><td>Map(outputMode -> Append, queryId -> 11df48df-41ba-4d00-aaee-4ca41f34dedd, epochId -> 22)</td><td>null</td><td>List(1643776971945716)</td><td>0221-202852-us9uczep</td><td>22</td><td>WriteSerializable</td><td>true</td><td>Map(numRemovedFiles -> 0, numOutputRows -> 2000, numOutputBytes -> 11574, numAddedFiles -> 1)</td><td>null</td><td>Databricks-Runtime/12.2.x-scala2.12</td></tr><tr><td>22</td><td>2024-02-21T21:10:08.000+0000</td><td>7406534468247714</td><td>anacadriano20@gmail.com</td><td>STREAMING UPDATE</td><td>Map(outputMode -> Append, queryId -> 11df48df-41ba-4d00-aaee-4ca41f34dedd, epochId -> 21)</td><td>null</td><td>List(1643776971945716)</td><td>0221-202852-us9uczep</td><td>21</td><td>WriteSerializable</td><td>true</td><td>Map(numRemovedFiles -> 0, numOutputRows -> 2000, numOutputBytes -> 11648, numAddedFiles -> 1)</td><td>null</td><td>Databricks-Runtime/12.2.x-scala2.12</td></tr><tr><td>21</td><td>2024-02-21T21:09:59.000+0000</td><td>7406534468247714</td><td>anacadriano20@gmail.com</td><td>STREAMING UPDATE</td><td>Map(outputMode -> Append, queryId -> 11df48df-41ba-4d00-aaee-4ca41f34dedd, epochId -> 20)</td><td>null</td><td>List(1643776971945716)</td><td>0221-202852-us9uczep</td><td>20</td><td>WriteSerializable</td><td>true</td><td>Map(numRemovedFiles -> 0, numOutputRows -> 2000, numOutputBytes -> 11785, numAddedFiles -> 1)</td><td>null</td><td>Databricks-Runtime/12.2.x-scala2.12</td></tr><tr><td>20</td><td>2024-02-21T21:09:53.000+0000</td><td>7406534468247714</td><td>anacadriano20@gmail.com</td><td>STREAMING UPDATE</td><td>Map(outputMode -> Append, queryId -> 11df48df-41ba-4d00-aaee-4ca41f34dedd, epochId -> 19)</td><td>null</td><td>List(1643776971945716)</td><td>0221-202852-us9uczep</td><td>19</td><td>WriteSerializable</td><td>true</td><td>Map(numRemovedFiles -> 0, numOutputRows -> 2000, numOutputBytes -> 11733, numAddedFiles -> 1)</td><td>null</td><td>Databricks-Runtime/12.2.x-scala2.12</td></tr><tr><td>19</td><td>2024-02-21T21:09:47.000+0000</td><td>7406534468247714</td><td>anacadriano20@gmail.com</td><td>STREAMING UPDATE</td><td>Map(outputMode -> Append, queryId -> 11df48df-41ba-4d00-aaee-4ca41f34dedd, epochId -> 18)</td><td>null</td><td>List(1643776971945716)</td><td>0221-202852-us9uczep</td><td>18</td><td>WriteSerializable</td><td>true</td><td>Map(numRemovedFiles -> 0, numOutputRows -> 2000, numOutputBytes -> 11513, numAddedFiles -> 1)</td><td>null</td><td>Databricks-Runtime/12.2.x-scala2.12</td></tr><tr><td>18</td><td>2024-02-21T21:09:41.000+0000</td><td>7406534468247714</td><td>anacadriano20@gmail.com</td><td>STREAMING UPDATE</td><td>Map(outputMode -> Append, queryId -> 11df48df-41ba-4d00-aaee-4ca41f34dedd, epochId -> 17)</td><td>null</td><td>List(1643776971945716)</td><td>0221-202852-us9uczep</td><td>17</td><td>WriteSerializable</td><td>true</td><td>Map(numRemovedFiles -> 0, numOutputRows -> 2000, numOutputBytes -> 11577, numAddedFiles -> 1)</td><td>null</td><td>Databricks-Runtime/12.2.x-scala2.12</td></tr><tr><td>17</td><td>2024-02-21T21:09:37.000+0000</td><td>7406534468247714</td><td>anacadriano20@gmail.com</td><td>STREAMING UPDATE</td><td>Map(outputMode -> Append, queryId -> 11df48df-41ba-4d00-aaee-4ca41f34dedd, epochId -> 16)</td><td>null</td><td>List(1643776971945716)</td><td>0221-202852-us9uczep</td><td>16</td><td>WriteSerializable</td><td>true</td><td>Map(numRemovedFiles -> 0, numOutputRows -> 2000, numOutputBytes -> 11838, numAddedFiles -> 1)</td><td>null</td><td>Databricks-Runtime/12.2.x-scala2.12</td></tr><tr><td>16</td><td>2024-02-21T21:09:32.000+0000</td><td>7406534468247714</td><td>anacadriano20@gmail.com</td><td>STREAMING UPDATE</td><td>Map(outputMode -> Append, queryId -> 11df48df-41ba-4d00-aaee-4ca41f34dedd, epochId -> 15)</td><td>null</td><td>List(1643776971945716)</td><td>0221-202852-us9uczep</td><td>15</td><td>WriteSerializable</td><td>true</td><td>Map(numRemovedFiles -> 0, numOutputRows -> 2000, numOutputBytes -> 11429, numAddedFiles -> 1)</td><td>null</td><td>Databricks-Runtime/12.2.x-scala2.12</td></tr><tr><td>15</td><td>2024-02-21T21:09:28.000+0000</td><td>7406534468247714</td><td>anacadriano20@gmail.com</td><td>STREAMING UPDATE</td><td>Map(outputMode -> Append, queryId -> 11df48df-41ba-4d00-aaee-4ca41f34dedd, epochId -> 14)</td><td>null</td><td>List(1643776971945716)</td><td>0221-202852-us9uczep</td><td>14</td><td>WriteSerializable</td><td>true</td><td>Map(numRemovedFiles -> 0, numOutputRows -> 2000, numOutputBytes -> 11741, numAddedFiles -> 1)</td><td>null</td><td>Databricks-Runtime/12.2.x-scala2.12</td></tr><tr><td>14</td><td>2024-02-21T21:09:23.000+0000</td><td>7406534468247714</td><td>anacadriano20@gmail.com</td><td>STREAMING UPDATE</td><td>Map(outputMode -> Append, queryId -> 11df48df-41ba-4d00-aaee-4ca41f34dedd, epochId -> 13)</td><td>null</td><td>List(1643776971945716)</td><td>0221-202852-us9uczep</td><td>13</td><td>WriteSerializable</td><td>true</td><td>Map(numRemovedFiles -> 0, numOutputRows -> 2000, numOutputBytes -> 11768, numAddedFiles -> 1)</td><td>null</td><td>Databricks-Runtime/12.2.x-scala2.12</td></tr><tr><td>13</td><td>2024-02-21T21:09:19.000+0000</td><td>7406534468247714</td><td>anacadriano20@gmail.com</td><td>STREAMING UPDATE</td><td>Map(outputMode -> Append, queryId -> 11df48df-41ba-4d00-aaee-4ca41f34dedd, epochId -> 12)</td><td>null</td><td>List(1643776971945716)</td><td>0221-202852-us9uczep</td><td>12</td><td>WriteSerializable</td><td>true</td><td>Map(numRemovedFiles -> 0, numOutputRows -> 2000, numOutputBytes -> 11828, numAddedFiles -> 1)</td><td>null</td><td>Databricks-Runtime/12.2.x-scala2.12</td></tr><tr><td>12</td><td>2024-02-21T21:09:14.000+0000</td><td>7406534468247714</td><td>anacadriano20@gmail.com</td><td>STREAMING UPDATE</td><td>Map(outputMode -> Append, queryId -> 11df48df-41ba-4d00-aaee-4ca41f34dedd, epochId -> 11)</td><td>null</td><td>List(1643776971945716)</td><td>0221-202852-us9uczep</td><td>11</td><td>WriteSerializable</td><td>true</td><td>Map(numRemovedFiles -> 0, numOutputRows -> 2000, numOutputBytes -> 11715, numAddedFiles -> 1)</td><td>null</td><td>Databricks-Runtime/12.2.x-scala2.12</td></tr><tr><td>11</td><td>2024-02-21T21:09:05.000+0000</td><td>7406534468247714</td><td>anacadriano20@gmail.com</td><td>STREAMING UPDATE</td><td>Map(outputMode -> Append, queryId -> 11df48df-41ba-4d00-aaee-4ca41f34dedd, epochId -> 10)</td><td>null</td><td>List(1643776971945716)</td><td>0221-202852-us9uczep</td><td>10</td><td>WriteSerializable</td><td>true</td><td>Map(numRemovedFiles -> 0, numOutputRows -> 2000, numOutputBytes -> 11503, numAddedFiles -> 1)</td><td>null</td><td>Databricks-Runtime/12.2.x-scala2.12</td></tr><tr><td>10</td><td>2024-02-21T21:09:01.000+0000</td><td>7406534468247714</td><td>anacadriano20@gmail.com</td><td>STREAMING UPDATE</td><td>Map(outputMode -> Append, queryId -> 11df48df-41ba-4d00-aaee-4ca41f34dedd, epochId -> 9)</td><td>null</td><td>List(1643776971945716)</td><td>0221-202852-us9uczep</td><td>9</td><td>WriteSerializable</td><td>true</td><td>Map(numRemovedFiles -> 0, numOutputRows -> 2000, numOutputBytes -> 11767, numAddedFiles -> 1)</td><td>null</td><td>Databricks-Runtime/12.2.x-scala2.12</td></tr><tr><td>9</td><td>2024-02-21T21:08:55.000+0000</td><td>7406534468247714</td><td>anacadriano20@gmail.com</td><td>STREAMING UPDATE</td><td>Map(outputMode -> Append, queryId -> 11df48df-41ba-4d00-aaee-4ca41f34dedd, epochId -> 8)</td><td>null</td><td>List(1643776971945716)</td><td>0221-202852-us9uczep</td><td>8</td><td>WriteSerializable</td><td>true</td><td>Map(numRemovedFiles -> 0, numOutputRows -> 2000, numOutputBytes -> 11617, numAddedFiles -> 1)</td><td>null</td><td>Databricks-Runtime/12.2.x-scala2.12</td></tr><tr><td>8</td><td>2024-02-21T21:08:51.000+0000</td><td>7406534468247714</td><td>anacadriano20@gmail.com</td><td>STREAMING UPDATE</td><td>Map(outputMode -> Append, queryId -> 11df48df-41ba-4d00-aaee-4ca41f34dedd, epochId -> 7)</td><td>null</td><td>List(1643776971945716)</td><td>0221-202852-us9uczep</td><td>7</td><td>WriteSerializable</td><td>true</td><td>Map(numRemovedFiles -> 0, numOutputRows -> 2000, numOutputBytes -> 11416, numAddedFiles -> 1)</td><td>null</td><td>Databricks-Runtime/12.2.x-scala2.12</td></tr><tr><td>7</td><td>2024-02-21T21:08:46.000+0000</td><td>7406534468247714</td><td>anacadriano20@gmail.com</td><td>STREAMING UPDATE</td><td>Map(outputMode -> Append, queryId -> 11df48df-41ba-4d00-aaee-4ca41f34dedd, epochId -> 6)</td><td>null</td><td>List(1643776971945716)</td><td>0221-202852-us9uczep</td><td>6</td><td>WriteSerializable</td><td>true</td><td>Map(numRemovedFiles -> 0, numOutputRows -> 2000, numOutputBytes -> 11837, numAddedFiles -> 1)</td><td>null</td><td>Databricks-Runtime/12.2.x-scala2.12</td></tr><tr><td>6</td><td>2024-02-21T21:08:41.000+0000</td><td>7406534468247714</td><td>anacadriano20@gmail.com</td><td>STREAMING UPDATE</td><td>Map(outputMode -> Append, queryId -> 11df48df-41ba-4d00-aaee-4ca41f34dedd, epochId -> 5)</td><td>null</td><td>List(1643776971945716)</td><td>0221-202852-us9uczep</td><td>5</td><td>WriteSerializable</td><td>true</td><td>Map(numRemovedFiles -> 0, numOutputRows -> 2000, numOutputBytes -> 11829, numAddedFiles -> 1)</td><td>null</td><td>Databricks-Runtime/12.2.x-scala2.12</td></tr><tr><td>5</td><td>2024-02-21T21:08:37.000+0000</td><td>7406534468247714</td><td>anacadriano20@gmail.com</td><td>STREAMING UPDATE</td><td>Map(outputMode -> Append, queryId -> 11df48df-41ba-4d00-aaee-4ca41f34dedd, epochId -> 4)</td><td>null</td><td>List(1643776971945716)</td><td>0221-202852-us9uczep</td><td>4</td><td>WriteSerializable</td><td>true</td><td>Map(numRemovedFiles -> 0, numOutputRows -> 2000, numOutputBytes -> 11606, numAddedFiles -> 1)</td><td>null</td><td>Databricks-Runtime/12.2.x-scala2.12</td></tr><tr><td>4</td><td>2024-02-21T21:08:32.000+0000</td><td>7406534468247714</td><td>anacadriano20@gmail.com</td><td>STREAMING UPDATE</td><td>Map(outputMode -> Append, queryId -> 11df48df-41ba-4d00-aaee-4ca41f34dedd, epochId -> 3)</td><td>null</td><td>List(1643776971945716)</td><td>0221-202852-us9uczep</td><td>3</td><td>WriteSerializable</td><td>true</td><td>Map(numRemovedFiles -> 0, numOutputRows -> 2000, numOutputBytes -> 11774, numAddedFiles -> 1)</td><td>null</td><td>Databricks-Runtime/12.2.x-scala2.12</td></tr><tr><td>3</td><td>2024-02-21T21:08:28.000+0000</td><td>7406534468247714</td><td>anacadriano20@gmail.com</td><td>STREAMING UPDATE</td><td>Map(outputMode -> Append, queryId -> 11df48df-41ba-4d00-aaee-4ca41f34dedd, epochId -> 2)</td><td>null</td><td>List(1643776971945716)</td><td>0221-202852-us9uczep</td><td>2</td><td>WriteSerializable</td><td>true</td><td>Map(numRemovedFiles -> 0, numOutputRows -> 2000, numOutputBytes -> 11720, numAddedFiles -> 1)</td><td>null</td><td>Databricks-Runtime/12.2.x-scala2.12</td></tr><tr><td>2</td><td>2024-02-21T21:08:22.000+0000</td><td>7406534468247714</td><td>anacadriano20@gmail.com</td><td>STREAMING UPDATE</td><td>Map(outputMode -> Append, queryId -> 11df48df-41ba-4d00-aaee-4ca41f34dedd, epochId -> 1)</td><td>null</td><td>List(1643776971945716)</td><td>0221-202852-us9uczep</td><td>1</td><td>WriteSerializable</td><td>true</td><td>Map(numRemovedFiles -> 0, numOutputRows -> 2000, numOutputBytes -> 11798, numAddedFiles -> 1)</td><td>null</td><td>Databricks-Runtime/12.2.x-scala2.12</td></tr><tr><td>1</td><td>2024-02-21T21:08:16.000+0000</td><td>7406534468247714</td><td>anacadriano20@gmail.com</td><td>STREAMING UPDATE</td><td>Map(outputMode -> Append, queryId -> 11df48df-41ba-4d00-aaee-4ca41f34dedd, epochId -> 0)</td><td>null</td><td>List(1643776971945716)</td><td>0221-202852-us9uczep</td><td>0</td><td>WriteSerializable</td><td>true</td><td>Map(numRemovedFiles -> 0, numOutputRows -> 2000, numOutputBytes -> 12503, numAddedFiles -> 1)</td><td>null</td><td>Databricks-Runtime/12.2.x-scala2.12</td></tr><tr><td>0</td><td>2024-02-21T21:07:32.000+0000</td><td>7406534468247714</td><td>anacadriano20@gmail.com</td><td>CREATE TABLE</td><td>Map(isManaged -> false, description -> null, partitionBy -> [], properties -> {})</td><td>null</td><td>List(1643776971945716)</td><td>0221-202852-us9uczep</td><td>null</td><td>WriteSerializable</td><td>true</td><td>Map()</td><td>null</td><td>Databricks-Runtime/12.2.x-scala2.12</td></tr></tbody></table></div>"
      ]
     },
     "metadata": {
      "application/vnd.databricks.v1+output": {
       "addedWidgets": {},
       "aggData": [],
       "aggError": "",
       "aggOverflow": false,
       "aggSchema": [],
       "aggSeriesLimitReached": false,
       "aggType": "",
       "arguments": {},
       "columnCustomDisplayInfos": {},
       "data": [
        [
         50,
         "2024-02-21T21:12:18.000+0000",
         "7406534468247714",
         "anacadriano20@gmail.com",
         "STREAMING UPDATE",
         {
          "epochId": "49",
          "outputMode": "Append",
          "queryId": "11df48df-41ba-4d00-aaee-4ca41f34dedd"
         },
         null,
         [
          "1643776971945716"
         ],
         "0221-202852-us9uczep",
         49,
         "WriteSerializable",
         true,
         {
          "numAddedFiles": "1",
          "numOutputBytes": "12486",
          "numOutputRows": "2000",
          "numRemovedFiles": "0"
         },
         null,
         "Databricks-Runtime/12.2.x-scala2.12"
        ],
        [
         49,
         "2024-02-21T21:12:13.000+0000",
         "7406534468247714",
         "anacadriano20@gmail.com",
         "STREAMING UPDATE",
         {
          "epochId": "48",
          "outputMode": "Append",
          "queryId": "11df48df-41ba-4d00-aaee-4ca41f34dedd"
         },
         null,
         [
          "1643776971945716"
         ],
         "0221-202852-us9uczep",
         48,
         "WriteSerializable",
         true,
         {
          "numAddedFiles": "1",
          "numOutputBytes": "11682",
          "numOutputRows": "2000",
          "numRemovedFiles": "0"
         },
         null,
         "Databricks-Runtime/12.2.x-scala2.12"
        ],
        [
         48,
         "2024-02-21T21:12:09.000+0000",
         "7406534468247714",
         "anacadriano20@gmail.com",
         "STREAMING UPDATE",
         {
          "epochId": "47",
          "outputMode": "Append",
          "queryId": "11df48df-41ba-4d00-aaee-4ca41f34dedd"
         },
         null,
         [
          "1643776971945716"
         ],
         "0221-202852-us9uczep",
         47,
         "WriteSerializable",
         true,
         {
          "numAddedFiles": "1",
          "numOutputBytes": "11810",
          "numOutputRows": "2000",
          "numRemovedFiles": "0"
         },
         null,
         "Databricks-Runtime/12.2.x-scala2.12"
        ],
        [
         47,
         "2024-02-21T21:12:06.000+0000",
         "7406534468247714",
         "anacadriano20@gmail.com",
         "STREAMING UPDATE",
         {
          "epochId": "46",
          "outputMode": "Append",
          "queryId": "11df48df-41ba-4d00-aaee-4ca41f34dedd"
         },
         null,
         [
          "1643776971945716"
         ],
         "0221-202852-us9uczep",
         46,
         "WriteSerializable",
         true,
         {
          "numAddedFiles": "1",
          "numOutputBytes": "11501",
          "numOutputRows": "2000",
          "numRemovedFiles": "0"
         },
         null,
         "Databricks-Runtime/12.2.x-scala2.12"
        ],
        [
         46,
         "2024-02-21T21:12:02.000+0000",
         "7406534468247714",
         "anacadriano20@gmail.com",
         "STREAMING UPDATE",
         {
          "epochId": "45",
          "outputMode": "Append",
          "queryId": "11df48df-41ba-4d00-aaee-4ca41f34dedd"
         },
         null,
         [
          "1643776971945716"
         ],
         "0221-202852-us9uczep",
         45,
         "WriteSerializable",
         true,
         {
          "numAddedFiles": "1",
          "numOutputBytes": "11711",
          "numOutputRows": "2000",
          "numRemovedFiles": "0"
         },
         null,
         "Databricks-Runtime/12.2.x-scala2.12"
        ],
        [
         45,
         "2024-02-21T21:11:58.000+0000",
         "7406534468247714",
         "anacadriano20@gmail.com",
         "STREAMING UPDATE",
         {
          "epochId": "44",
          "outputMode": "Append",
          "queryId": "11df48df-41ba-4d00-aaee-4ca41f34dedd"
         },
         null,
         [
          "1643776971945716"
         ],
         "0221-202852-us9uczep",
         44,
         "WriteSerializable",
         true,
         {
          "numAddedFiles": "1",
          "numOutputBytes": "11731",
          "numOutputRows": "2000",
          "numRemovedFiles": "0"
         },
         null,
         "Databricks-Runtime/12.2.x-scala2.12"
        ],
        [
         44,
         "2024-02-21T21:11:54.000+0000",
         "7406534468247714",
         "anacadriano20@gmail.com",
         "STREAMING UPDATE",
         {
          "epochId": "43",
          "outputMode": "Append",
          "queryId": "11df48df-41ba-4d00-aaee-4ca41f34dedd"
         },
         null,
         [
          "1643776971945716"
         ],
         "0221-202852-us9uczep",
         43,
         "WriteSerializable",
         true,
         {
          "numAddedFiles": "1",
          "numOutputBytes": "11445",
          "numOutputRows": "2000",
          "numRemovedFiles": "0"
         },
         null,
         "Databricks-Runtime/12.2.x-scala2.12"
        ],
        [
         43,
         "2024-02-21T21:11:51.000+0000",
         "7406534468247714",
         "anacadriano20@gmail.com",
         "STREAMING UPDATE",
         {
          "epochId": "42",
          "outputMode": "Append",
          "queryId": "11df48df-41ba-4d00-aaee-4ca41f34dedd"
         },
         null,
         [
          "1643776971945716"
         ],
         "0221-202852-us9uczep",
         42,
         "WriteSerializable",
         true,
         {
          "numAddedFiles": "1",
          "numOutputBytes": "11634",
          "numOutputRows": "2000",
          "numRemovedFiles": "0"
         },
         null,
         "Databricks-Runtime/12.2.x-scala2.12"
        ],
        [
         42,
         "2024-02-21T21:11:46.000+0000",
         "7406534468247714",
         "anacadriano20@gmail.com",
         "STREAMING UPDATE",
         {
          "epochId": "41",
          "outputMode": "Append",
          "queryId": "11df48df-41ba-4d00-aaee-4ca41f34dedd"
         },
         null,
         [
          "1643776971945716"
         ],
         "0221-202852-us9uczep",
         41,
         "WriteSerializable",
         true,
         {
          "numAddedFiles": "1",
          "numOutputBytes": "11823",
          "numOutputRows": "2000",
          "numRemovedFiles": "0"
         },
         null,
         "Databricks-Runtime/12.2.x-scala2.12"
        ],
        [
         41,
         "2024-02-21T21:11:41.000+0000",
         "7406534468247714",
         "anacadriano20@gmail.com",
         "STREAMING UPDATE",
         {
          "epochId": "40",
          "outputMode": "Append",
          "queryId": "11df48df-41ba-4d00-aaee-4ca41f34dedd"
         },
         null,
         [
          "1643776971945716"
         ],
         "0221-202852-us9uczep",
         40,
         "WriteSerializable",
         true,
         {
          "numAddedFiles": "1",
          "numOutputBytes": "11538",
          "numOutputRows": "2000",
          "numRemovedFiles": "0"
         },
         null,
         "Databricks-Runtime/12.2.x-scala2.12"
        ],
        [
         40,
         "2024-02-21T21:11:36.000+0000",
         "7406534468247714",
         "anacadriano20@gmail.com",
         "STREAMING UPDATE",
         {
          "epochId": "39",
          "outputMode": "Append",
          "queryId": "11df48df-41ba-4d00-aaee-4ca41f34dedd"
         },
         null,
         [
          "1643776971945716"
         ],
         "0221-202852-us9uczep",
         39,
         "WriteSerializable",
         true,
         {
          "numAddedFiles": "1",
          "numOutputBytes": "11753",
          "numOutputRows": "2000",
          "numRemovedFiles": "0"
         },
         null,
         "Databricks-Runtime/12.2.x-scala2.12"
        ],
        [
         39,
         "2024-02-21T21:11:31.000+0000",
         "7406534468247714",
         "anacadriano20@gmail.com",
         "STREAMING UPDATE",
         {
          "epochId": "38",
          "outputMode": "Append",
          "queryId": "11df48df-41ba-4d00-aaee-4ca41f34dedd"
         },
         null,
         [
          "1643776971945716"
         ],
         "0221-202852-us9uczep",
         38,
         "WriteSerializable",
         true,
         {
          "numAddedFiles": "1",
          "numOutputBytes": "11766",
          "numOutputRows": "2000",
          "numRemovedFiles": "0"
         },
         null,
         "Databricks-Runtime/12.2.x-scala2.12"
        ],
        [
         38,
         "2024-02-21T21:11:28.000+0000",
         "7406534468247714",
         "anacadriano20@gmail.com",
         "STREAMING UPDATE",
         {
          "epochId": "37",
          "outputMode": "Append",
          "queryId": "11df48df-41ba-4d00-aaee-4ca41f34dedd"
         },
         null,
         [
          "1643776971945716"
         ],
         "0221-202852-us9uczep",
         37,
         "WriteSerializable",
         true,
         {
          "numAddedFiles": "1",
          "numOutputBytes": "11806",
          "numOutputRows": "2000",
          "numRemovedFiles": "0"
         },
         null,
         "Databricks-Runtime/12.2.x-scala2.12"
        ],
        [
         37,
         "2024-02-21T21:11:23.000+0000",
         "7406534468247714",
         "anacadriano20@gmail.com",
         "STREAMING UPDATE",
         {
          "epochId": "36",
          "outputMode": "Append",
          "queryId": "11df48df-41ba-4d00-aaee-4ca41f34dedd"
         },
         null,
         [
          "1643776971945716"
         ],
         "0221-202852-us9uczep",
         36,
         "WriteSerializable",
         true,
         {
          "numAddedFiles": "1",
          "numOutputBytes": "11763",
          "numOutputRows": "2000",
          "numRemovedFiles": "0"
         },
         null,
         "Databricks-Runtime/12.2.x-scala2.12"
        ],
        [
         36,
         "2024-02-21T21:11:20.000+0000",
         "7406534468247714",
         "anacadriano20@gmail.com",
         "STREAMING UPDATE",
         {
          "epochId": "35",
          "outputMode": "Append",
          "queryId": "11df48df-41ba-4d00-aaee-4ca41f34dedd"
         },
         null,
         [
          "1643776971945716"
         ],
         "0221-202852-us9uczep",
         35,
         "WriteSerializable",
         true,
         {
          "numAddedFiles": "1",
          "numOutputBytes": "11672",
          "numOutputRows": "2000",
          "numRemovedFiles": "0"
         },
         null,
         "Databricks-Runtime/12.2.x-scala2.12"
        ],
        [
         35,
         "2024-02-21T21:11:16.000+0000",
         "7406534468247714",
         "anacadriano20@gmail.com",
         "STREAMING UPDATE",
         {
          "epochId": "34",
          "outputMode": "Append",
          "queryId": "11df48df-41ba-4d00-aaee-4ca41f34dedd"
         },
         null,
         [
          "1643776971945716"
         ],
         "0221-202852-us9uczep",
         34,
         "WriteSerializable",
         true,
         {
          "numAddedFiles": "1",
          "numOutputBytes": "11853",
          "numOutputRows": "2000",
          "numRemovedFiles": "0"
         },
         null,
         "Databricks-Runtime/12.2.x-scala2.12"
        ],
        [
         34,
         "2024-02-21T21:11:11.000+0000",
         "7406534468247714",
         "anacadriano20@gmail.com",
         "STREAMING UPDATE",
         {
          "epochId": "33",
          "outputMode": "Append",
          "queryId": "11df48df-41ba-4d00-aaee-4ca41f34dedd"
         },
         null,
         [
          "1643776971945716"
         ],
         "0221-202852-us9uczep",
         33,
         "WriteSerializable",
         true,
         {
          "numAddedFiles": "1",
          "numOutputBytes": "11543",
          "numOutputRows": "2000",
          "numRemovedFiles": "0"
         },
         null,
         "Databricks-Runtime/12.2.x-scala2.12"
        ],
        [
         33,
         "2024-02-21T21:11:07.000+0000",
         "7406534468247714",
         "anacadriano20@gmail.com",
         "STREAMING UPDATE",
         {
          "epochId": "32",
          "outputMode": "Append",
          "queryId": "11df48df-41ba-4d00-aaee-4ca41f34dedd"
         },
         null,
         [
          "1643776971945716"
         ],
         "0221-202852-us9uczep",
         32,
         "WriteSerializable",
         true,
         {
          "numAddedFiles": "1",
          "numOutputBytes": "11445",
          "numOutputRows": "2000",
          "numRemovedFiles": "0"
         },
         null,
         "Databricks-Runtime/12.2.x-scala2.12"
        ],
        [
         32,
         "2024-02-21T21:11:03.000+0000",
         "7406534468247714",
         "anacadriano20@gmail.com",
         "STREAMING UPDATE",
         {
          "epochId": "31",
          "outputMode": "Append",
          "queryId": "11df48df-41ba-4d00-aaee-4ca41f34dedd"
         },
         null,
         [
          "1643776971945716"
         ],
         "0221-202852-us9uczep",
         31,
         "WriteSerializable",
         true,
         {
          "numAddedFiles": "1",
          "numOutputBytes": "11770",
          "numOutputRows": "2000",
          "numRemovedFiles": "0"
         },
         null,
         "Databricks-Runtime/12.2.x-scala2.12"
        ],
        [
         31,
         "2024-02-21T21:10:56.000+0000",
         "7406534468247714",
         "anacadriano20@gmail.com",
         "STREAMING UPDATE",
         {
          "epochId": "30",
          "outputMode": "Append",
          "queryId": "11df48df-41ba-4d00-aaee-4ca41f34dedd"
         },
         null,
         [
          "1643776971945716"
         ],
         "0221-202852-us9uczep",
         30,
         "WriteSerializable",
         true,
         {
          "numAddedFiles": "1",
          "numOutputBytes": "11797",
          "numOutputRows": "2000",
          "numRemovedFiles": "0"
         },
         null,
         "Databricks-Runtime/12.2.x-scala2.12"
        ],
        [
         30,
         "2024-02-21T21:10:50.000+0000",
         "7406534468247714",
         "anacadriano20@gmail.com",
         "STREAMING UPDATE",
         {
          "epochId": "29",
          "outputMode": "Append",
          "queryId": "11df48df-41ba-4d00-aaee-4ca41f34dedd"
         },
         null,
         [
          "1643776971945716"
         ],
         "0221-202852-us9uczep",
         29,
         "WriteSerializable",
         true,
         {
          "numAddedFiles": "1",
          "numOutputBytes": "11663",
          "numOutputRows": "2000",
          "numRemovedFiles": "0"
         },
         null,
         "Databricks-Runtime/12.2.x-scala2.12"
        ],
        [
         29,
         "2024-02-21T21:10:45.000+0000",
         "7406534468247714",
         "anacadriano20@gmail.com",
         "STREAMING UPDATE",
         {
          "epochId": "28",
          "outputMode": "Append",
          "queryId": "11df48df-41ba-4d00-aaee-4ca41f34dedd"
         },
         null,
         [
          "1643776971945716"
         ],
         "0221-202852-us9uczep",
         28,
         "WriteSerializable",
         true,
         {
          "numAddedFiles": "1",
          "numOutputBytes": "11861",
          "numOutputRows": "2000",
          "numRemovedFiles": "0"
         },
         null,
         "Databricks-Runtime/12.2.x-scala2.12"
        ],
        [
         28,
         "2024-02-21T21:10:35.000+0000",
         "7406534468247714",
         "anacadriano20@gmail.com",
         "STREAMING UPDATE",
         {
          "epochId": "27",
          "outputMode": "Append",
          "queryId": "11df48df-41ba-4d00-aaee-4ca41f34dedd"
         },
         null,
         [
          "1643776971945716"
         ],
         "0221-202852-us9uczep",
         27,
         "WriteSerializable",
         true,
         {
          "numAddedFiles": "1",
          "numOutputBytes": "11740",
          "numOutputRows": "2000",
          "numRemovedFiles": "0"
         },
         null,
         "Databricks-Runtime/12.2.x-scala2.12"
        ],
        [
         27,
         "2024-02-21T21:10:30.000+0000",
         "7406534468247714",
         "anacadriano20@gmail.com",
         "STREAMING UPDATE",
         {
          "epochId": "26",
          "outputMode": "Append",
          "queryId": "11df48df-41ba-4d00-aaee-4ca41f34dedd"
         },
         null,
         [
          "1643776971945716"
         ],
         "0221-202852-us9uczep",
         26,
         "WriteSerializable",
         true,
         {
          "numAddedFiles": "1",
          "numOutputBytes": "11585",
          "numOutputRows": "2000",
          "numRemovedFiles": "0"
         },
         null,
         "Databricks-Runtime/12.2.x-scala2.12"
        ],
        [
         26,
         "2024-02-21T21:10:25.000+0000",
         "7406534468247714",
         "anacadriano20@gmail.com",
         "STREAMING UPDATE",
         {
          "epochId": "25",
          "outputMode": "Append",
          "queryId": "11df48df-41ba-4d00-aaee-4ca41f34dedd"
         },
         null,
         [
          "1643776971945716"
         ],
         "0221-202852-us9uczep",
         25,
         "WriteSerializable",
         true,
         {
          "numAddedFiles": "1",
          "numOutputBytes": "11657",
          "numOutputRows": "2000",
          "numRemovedFiles": "0"
         },
         null,
         "Databricks-Runtime/12.2.x-scala2.12"
        ],
        [
         25,
         "2024-02-21T21:10:21.000+0000",
         "7406534468247714",
         "anacadriano20@gmail.com",
         "STREAMING UPDATE",
         {
          "epochId": "24",
          "outputMode": "Append",
          "queryId": "11df48df-41ba-4d00-aaee-4ca41f34dedd"
         },
         null,
         [
          "1643776971945716"
         ],
         "0221-202852-us9uczep",
         24,
         "WriteSerializable",
         true,
         {
          "numAddedFiles": "1",
          "numOutputBytes": "11683",
          "numOutputRows": "2000",
          "numRemovedFiles": "0"
         },
         null,
         "Databricks-Runtime/12.2.x-scala2.12"
        ],
        [
         24,
         "2024-02-21T21:10:17.000+0000",
         "7406534468247714",
         "anacadriano20@gmail.com",
         "STREAMING UPDATE",
         {
          "epochId": "23",
          "outputMode": "Append",
          "queryId": "11df48df-41ba-4d00-aaee-4ca41f34dedd"
         },
         null,
         [
          "1643776971945716"
         ],
         "0221-202852-us9uczep",
         23,
         "WriteSerializable",
         true,
         {
          "numAddedFiles": "1",
          "numOutputBytes": "11837",
          "numOutputRows": "2000",
          "numRemovedFiles": "0"
         },
         null,
         "Databricks-Runtime/12.2.x-scala2.12"
        ],
        [
         23,
         "2024-02-21T21:10:13.000+0000",
         "7406534468247714",
         "anacadriano20@gmail.com",
         "STREAMING UPDATE",
         {
          "epochId": "22",
          "outputMode": "Append",
          "queryId": "11df48df-41ba-4d00-aaee-4ca41f34dedd"
         },
         null,
         [
          "1643776971945716"
         ],
         "0221-202852-us9uczep",
         22,
         "WriteSerializable",
         true,
         {
          "numAddedFiles": "1",
          "numOutputBytes": "11574",
          "numOutputRows": "2000",
          "numRemovedFiles": "0"
         },
         null,
         "Databricks-Runtime/12.2.x-scala2.12"
        ],
        [
         22,
         "2024-02-21T21:10:08.000+0000",
         "7406534468247714",
         "anacadriano20@gmail.com",
         "STREAMING UPDATE",
         {
          "epochId": "21",
          "outputMode": "Append",
          "queryId": "11df48df-41ba-4d00-aaee-4ca41f34dedd"
         },
         null,
         [
          "1643776971945716"
         ],
         "0221-202852-us9uczep",
         21,
         "WriteSerializable",
         true,
         {
          "numAddedFiles": "1",
          "numOutputBytes": "11648",
          "numOutputRows": "2000",
          "numRemovedFiles": "0"
         },
         null,
         "Databricks-Runtime/12.2.x-scala2.12"
        ],
        [
         21,
         "2024-02-21T21:09:59.000+0000",
         "7406534468247714",
         "anacadriano20@gmail.com",
         "STREAMING UPDATE",
         {
          "epochId": "20",
          "outputMode": "Append",
          "queryId": "11df48df-41ba-4d00-aaee-4ca41f34dedd"
         },
         null,
         [
          "1643776971945716"
         ],
         "0221-202852-us9uczep",
         20,
         "WriteSerializable",
         true,
         {
          "numAddedFiles": "1",
          "numOutputBytes": "11785",
          "numOutputRows": "2000",
          "numRemovedFiles": "0"
         },
         null,
         "Databricks-Runtime/12.2.x-scala2.12"
        ],
        [
         20,
         "2024-02-21T21:09:53.000+0000",
         "7406534468247714",
         "anacadriano20@gmail.com",
         "STREAMING UPDATE",
         {
          "epochId": "19",
          "outputMode": "Append",
          "queryId": "11df48df-41ba-4d00-aaee-4ca41f34dedd"
         },
         null,
         [
          "1643776971945716"
         ],
         "0221-202852-us9uczep",
         19,
         "WriteSerializable",
         true,
         {
          "numAddedFiles": "1",
          "numOutputBytes": "11733",
          "numOutputRows": "2000",
          "numRemovedFiles": "0"
         },
         null,
         "Databricks-Runtime/12.2.x-scala2.12"
        ],
        [
         19,
         "2024-02-21T21:09:47.000+0000",
         "7406534468247714",
         "anacadriano20@gmail.com",
         "STREAMING UPDATE",
         {
          "epochId": "18",
          "outputMode": "Append",
          "queryId": "11df48df-41ba-4d00-aaee-4ca41f34dedd"
         },
         null,
         [
          "1643776971945716"
         ],
         "0221-202852-us9uczep",
         18,
         "WriteSerializable",
         true,
         {
          "numAddedFiles": "1",
          "numOutputBytes": "11513",
          "numOutputRows": "2000",
          "numRemovedFiles": "0"
         },
         null,
         "Databricks-Runtime/12.2.x-scala2.12"
        ],
        [
         18,
         "2024-02-21T21:09:41.000+0000",
         "7406534468247714",
         "anacadriano20@gmail.com",
         "STREAMING UPDATE",
         {
          "epochId": "17",
          "outputMode": "Append",
          "queryId": "11df48df-41ba-4d00-aaee-4ca41f34dedd"
         },
         null,
         [
          "1643776971945716"
         ],
         "0221-202852-us9uczep",
         17,
         "WriteSerializable",
         true,
         {
          "numAddedFiles": "1",
          "numOutputBytes": "11577",
          "numOutputRows": "2000",
          "numRemovedFiles": "0"
         },
         null,
         "Databricks-Runtime/12.2.x-scala2.12"
        ],
        [
         17,
         "2024-02-21T21:09:37.000+0000",
         "7406534468247714",
         "anacadriano20@gmail.com",
         "STREAMING UPDATE",
         {
          "epochId": "16",
          "outputMode": "Append",
          "queryId": "11df48df-41ba-4d00-aaee-4ca41f34dedd"
         },
         null,
         [
          "1643776971945716"
         ],
         "0221-202852-us9uczep",
         16,
         "WriteSerializable",
         true,
         {
          "numAddedFiles": "1",
          "numOutputBytes": "11838",
          "numOutputRows": "2000",
          "numRemovedFiles": "0"
         },
         null,
         "Databricks-Runtime/12.2.x-scala2.12"
        ],
        [
         16,
         "2024-02-21T21:09:32.000+0000",
         "7406534468247714",
         "anacadriano20@gmail.com",
         "STREAMING UPDATE",
         {
          "epochId": "15",
          "outputMode": "Append",
          "queryId": "11df48df-41ba-4d00-aaee-4ca41f34dedd"
         },
         null,
         [
          "1643776971945716"
         ],
         "0221-202852-us9uczep",
         15,
         "WriteSerializable",
         true,
         {
          "numAddedFiles": "1",
          "numOutputBytes": "11429",
          "numOutputRows": "2000",
          "numRemovedFiles": "0"
         },
         null,
         "Databricks-Runtime/12.2.x-scala2.12"
        ],
        [
         15,
         "2024-02-21T21:09:28.000+0000",
         "7406534468247714",
         "anacadriano20@gmail.com",
         "STREAMING UPDATE",
         {
          "epochId": "14",
          "outputMode": "Append",
          "queryId": "11df48df-41ba-4d00-aaee-4ca41f34dedd"
         },
         null,
         [
          "1643776971945716"
         ],
         "0221-202852-us9uczep",
         14,
         "WriteSerializable",
         true,
         {
          "numAddedFiles": "1",
          "numOutputBytes": "11741",
          "numOutputRows": "2000",
          "numRemovedFiles": "0"
         },
         null,
         "Databricks-Runtime/12.2.x-scala2.12"
        ],
        [
         14,
         "2024-02-21T21:09:23.000+0000",
         "7406534468247714",
         "anacadriano20@gmail.com",
         "STREAMING UPDATE",
         {
          "epochId": "13",
          "outputMode": "Append",
          "queryId": "11df48df-41ba-4d00-aaee-4ca41f34dedd"
         },
         null,
         [
          "1643776971945716"
         ],
         "0221-202852-us9uczep",
         13,
         "WriteSerializable",
         true,
         {
          "numAddedFiles": "1",
          "numOutputBytes": "11768",
          "numOutputRows": "2000",
          "numRemovedFiles": "0"
         },
         null,
         "Databricks-Runtime/12.2.x-scala2.12"
        ],
        [
         13,
         "2024-02-21T21:09:19.000+0000",
         "7406534468247714",
         "anacadriano20@gmail.com",
         "STREAMING UPDATE",
         {
          "epochId": "12",
          "outputMode": "Append",
          "queryId": "11df48df-41ba-4d00-aaee-4ca41f34dedd"
         },
         null,
         [
          "1643776971945716"
         ],
         "0221-202852-us9uczep",
         12,
         "WriteSerializable",
         true,
         {
          "numAddedFiles": "1",
          "numOutputBytes": "11828",
          "numOutputRows": "2000",
          "numRemovedFiles": "0"
         },
         null,
         "Databricks-Runtime/12.2.x-scala2.12"
        ],
        [
         12,
         "2024-02-21T21:09:14.000+0000",
         "7406534468247714",
         "anacadriano20@gmail.com",
         "STREAMING UPDATE",
         {
          "epochId": "11",
          "outputMode": "Append",
          "queryId": "11df48df-41ba-4d00-aaee-4ca41f34dedd"
         },
         null,
         [
          "1643776971945716"
         ],
         "0221-202852-us9uczep",
         11,
         "WriteSerializable",
         true,
         {
          "numAddedFiles": "1",
          "numOutputBytes": "11715",
          "numOutputRows": "2000",
          "numRemovedFiles": "0"
         },
         null,
         "Databricks-Runtime/12.2.x-scala2.12"
        ],
        [
         11,
         "2024-02-21T21:09:05.000+0000",
         "7406534468247714",
         "anacadriano20@gmail.com",
         "STREAMING UPDATE",
         {
          "epochId": "10",
          "outputMode": "Append",
          "queryId": "11df48df-41ba-4d00-aaee-4ca41f34dedd"
         },
         null,
         [
          "1643776971945716"
         ],
         "0221-202852-us9uczep",
         10,
         "WriteSerializable",
         true,
         {
          "numAddedFiles": "1",
          "numOutputBytes": "11503",
          "numOutputRows": "2000",
          "numRemovedFiles": "0"
         },
         null,
         "Databricks-Runtime/12.2.x-scala2.12"
        ],
        [
         10,
         "2024-02-21T21:09:01.000+0000",
         "7406534468247714",
         "anacadriano20@gmail.com",
         "STREAMING UPDATE",
         {
          "epochId": "9",
          "outputMode": "Append",
          "queryId": "11df48df-41ba-4d00-aaee-4ca41f34dedd"
         },
         null,
         [
          "1643776971945716"
         ],
         "0221-202852-us9uczep",
         9,
         "WriteSerializable",
         true,
         {
          "numAddedFiles": "1",
          "numOutputBytes": "11767",
          "numOutputRows": "2000",
          "numRemovedFiles": "0"
         },
         null,
         "Databricks-Runtime/12.2.x-scala2.12"
        ],
        [
         9,
         "2024-02-21T21:08:55.000+0000",
         "7406534468247714",
         "anacadriano20@gmail.com",
         "STREAMING UPDATE",
         {
          "epochId": "8",
          "outputMode": "Append",
          "queryId": "11df48df-41ba-4d00-aaee-4ca41f34dedd"
         },
         null,
         [
          "1643776971945716"
         ],
         "0221-202852-us9uczep",
         8,
         "WriteSerializable",
         true,
         {
          "numAddedFiles": "1",
          "numOutputBytes": "11617",
          "numOutputRows": "2000",
          "numRemovedFiles": "0"
         },
         null,
         "Databricks-Runtime/12.2.x-scala2.12"
        ],
        [
         8,
         "2024-02-21T21:08:51.000+0000",
         "7406534468247714",
         "anacadriano20@gmail.com",
         "STREAMING UPDATE",
         {
          "epochId": "7",
          "outputMode": "Append",
          "queryId": "11df48df-41ba-4d00-aaee-4ca41f34dedd"
         },
         null,
         [
          "1643776971945716"
         ],
         "0221-202852-us9uczep",
         7,
         "WriteSerializable",
         true,
         {
          "numAddedFiles": "1",
          "numOutputBytes": "11416",
          "numOutputRows": "2000",
          "numRemovedFiles": "0"
         },
         null,
         "Databricks-Runtime/12.2.x-scala2.12"
        ],
        [
         7,
         "2024-02-21T21:08:46.000+0000",
         "7406534468247714",
         "anacadriano20@gmail.com",
         "STREAMING UPDATE",
         {
          "epochId": "6",
          "outputMode": "Append",
          "queryId": "11df48df-41ba-4d00-aaee-4ca41f34dedd"
         },
         null,
         [
          "1643776971945716"
         ],
         "0221-202852-us9uczep",
         6,
         "WriteSerializable",
         true,
         {
          "numAddedFiles": "1",
          "numOutputBytes": "11837",
          "numOutputRows": "2000",
          "numRemovedFiles": "0"
         },
         null,
         "Databricks-Runtime/12.2.x-scala2.12"
        ],
        [
         6,
         "2024-02-21T21:08:41.000+0000",
         "7406534468247714",
         "anacadriano20@gmail.com",
         "STREAMING UPDATE",
         {
          "epochId": "5",
          "outputMode": "Append",
          "queryId": "11df48df-41ba-4d00-aaee-4ca41f34dedd"
         },
         null,
         [
          "1643776971945716"
         ],
         "0221-202852-us9uczep",
         5,
         "WriteSerializable",
         true,
         {
          "numAddedFiles": "1",
          "numOutputBytes": "11829",
          "numOutputRows": "2000",
          "numRemovedFiles": "0"
         },
         null,
         "Databricks-Runtime/12.2.x-scala2.12"
        ],
        [
         5,
         "2024-02-21T21:08:37.000+0000",
         "7406534468247714",
         "anacadriano20@gmail.com",
         "STREAMING UPDATE",
         {
          "epochId": "4",
          "outputMode": "Append",
          "queryId": "11df48df-41ba-4d00-aaee-4ca41f34dedd"
         },
         null,
         [
          "1643776971945716"
         ],
         "0221-202852-us9uczep",
         4,
         "WriteSerializable",
         true,
         {
          "numAddedFiles": "1",
          "numOutputBytes": "11606",
          "numOutputRows": "2000",
          "numRemovedFiles": "0"
         },
         null,
         "Databricks-Runtime/12.2.x-scala2.12"
        ],
        [
         4,
         "2024-02-21T21:08:32.000+0000",
         "7406534468247714",
         "anacadriano20@gmail.com",
         "STREAMING UPDATE",
         {
          "epochId": "3",
          "outputMode": "Append",
          "queryId": "11df48df-41ba-4d00-aaee-4ca41f34dedd"
         },
         null,
         [
          "1643776971945716"
         ],
         "0221-202852-us9uczep",
         3,
         "WriteSerializable",
         true,
         {
          "numAddedFiles": "1",
          "numOutputBytes": "11774",
          "numOutputRows": "2000",
          "numRemovedFiles": "0"
         },
         null,
         "Databricks-Runtime/12.2.x-scala2.12"
        ],
        [
         3,
         "2024-02-21T21:08:28.000+0000",
         "7406534468247714",
         "anacadriano20@gmail.com",
         "STREAMING UPDATE",
         {
          "epochId": "2",
          "outputMode": "Append",
          "queryId": "11df48df-41ba-4d00-aaee-4ca41f34dedd"
         },
         null,
         [
          "1643776971945716"
         ],
         "0221-202852-us9uczep",
         2,
         "WriteSerializable",
         true,
         {
          "numAddedFiles": "1",
          "numOutputBytes": "11720",
          "numOutputRows": "2000",
          "numRemovedFiles": "0"
         },
         null,
         "Databricks-Runtime/12.2.x-scala2.12"
        ],
        [
         2,
         "2024-02-21T21:08:22.000+0000",
         "7406534468247714",
         "anacadriano20@gmail.com",
         "STREAMING UPDATE",
         {
          "epochId": "1",
          "outputMode": "Append",
          "queryId": "11df48df-41ba-4d00-aaee-4ca41f34dedd"
         },
         null,
         [
          "1643776971945716"
         ],
         "0221-202852-us9uczep",
         1,
         "WriteSerializable",
         true,
         {
          "numAddedFiles": "1",
          "numOutputBytes": "11798",
          "numOutputRows": "2000",
          "numRemovedFiles": "0"
         },
         null,
         "Databricks-Runtime/12.2.x-scala2.12"
        ],
        [
         1,
         "2024-02-21T21:08:16.000+0000",
         "7406534468247714",
         "anacadriano20@gmail.com",
         "STREAMING UPDATE",
         {
          "epochId": "0",
          "outputMode": "Append",
          "queryId": "11df48df-41ba-4d00-aaee-4ca41f34dedd"
         },
         null,
         [
          "1643776971945716"
         ],
         "0221-202852-us9uczep",
         0,
         "WriteSerializable",
         true,
         {
          "numAddedFiles": "1",
          "numOutputBytes": "12503",
          "numOutputRows": "2000",
          "numRemovedFiles": "0"
         },
         null,
         "Databricks-Runtime/12.2.x-scala2.12"
        ],
        [
         0,
         "2024-02-21T21:07:32.000+0000",
         "7406534468247714",
         "anacadriano20@gmail.com",
         "CREATE TABLE",
         {
          "description": null,
          "isManaged": "false",
          "partitionBy": "[]",
          "properties": "{}"
         },
         null,
         [
          "1643776971945716"
         ],
         "0221-202852-us9uczep",
         null,
         "WriteSerializable",
         true,
         {},
         null,
         "Databricks-Runtime/12.2.x-scala2.12"
        ]
       ],
       "datasetInfos": [],
       "dbfsResultPath": null,
       "isJsonSchema": true,
       "metadata": {},
       "overflow": false,
       "plotOptions": {
        "customPlotOptions": {},
        "displayType": "table",
        "pivotAggregation": null,
        "pivotColumns": null,
        "xColumns": null,
        "yColumns": null
       },
       "removedWidgets": [],
       "schema": [
        {
         "metadata": "{}",
         "name": "version",
         "type": "\"long\""
        },
        {
         "metadata": "{}",
         "name": "timestamp",
         "type": "\"timestamp\""
        },
        {
         "metadata": "{}",
         "name": "userId",
         "type": "\"string\""
        },
        {
         "metadata": "{}",
         "name": "userName",
         "type": "\"string\""
        },
        {
         "metadata": "{}",
         "name": "operation",
         "type": "\"string\""
        },
        {
         "metadata": "{}",
         "name": "operationParameters",
         "type": "{\"type\":\"map\",\"keyType\":\"string\",\"valueType\":\"string\",\"valueContainsNull\":true}"
        },
        {
         "metadata": "{}",
         "name": "job",
         "type": "{\"type\":\"struct\",\"fields\":[{\"name\":\"jobId\",\"type\":\"string\",\"nullable\":true,\"metadata\":{}},{\"name\":\"jobName\",\"type\":\"string\",\"nullable\":true,\"metadata\":{}},{\"name\":\"jobRunId\",\"type\":\"string\",\"nullable\":true,\"metadata\":{}},{\"name\":\"runId\",\"type\":\"string\",\"nullable\":true,\"metadata\":{}},{\"name\":\"jobOwnerId\",\"type\":\"string\",\"nullable\":true,\"metadata\":{}},{\"name\":\"triggerType\",\"type\":\"string\",\"nullable\":true,\"metadata\":{}}]}"
        },
        {
         "metadata": "{}",
         "name": "notebook",
         "type": "{\"type\":\"struct\",\"fields\":[{\"name\":\"notebookId\",\"type\":\"string\",\"nullable\":true,\"metadata\":{}}]}"
        },
        {
         "metadata": "{}",
         "name": "clusterId",
         "type": "\"string\""
        },
        {
         "metadata": "{}",
         "name": "readVersion",
         "type": "\"long\""
        },
        {
         "metadata": "{}",
         "name": "isolationLevel",
         "type": "\"string\""
        },
        {
         "metadata": "{}",
         "name": "isBlindAppend",
         "type": "\"boolean\""
        },
        {
         "metadata": "{}",
         "name": "operationMetrics",
         "type": "{\"type\":\"map\",\"keyType\":\"string\",\"valueType\":\"string\",\"valueContainsNull\":true}"
        },
        {
         "metadata": "{}",
         "name": "userMetadata",
         "type": "\"string\""
        },
        {
         "metadata": "{}",
         "name": "engineInfo",
         "type": "\"string\""
        }
       ],
       "type": "table"
      }
     },
     "output_type": "display_data"
    }
   ],
   "source": [
    "%sql\n",
    "-- Listando os históricos registrados na tabela Delta\n",
    "DESCRIBE HISTORY '/tmp/delta/events'"
   ]
  },
  {
   "cell_type": "code",
   "execution_count": 0,
   "metadata": {
    "application/vnd.databricks.v1+cell": {
     "cellMetadata": {
      "byteLimit": 2048000,
      "rowLimit": 10000
     },
     "inputWidgets": {},
     "nuid": "d7060b69-8438-4888-88b7-143cdd1dcbe0",
     "showTitle": false,
     "title": ""
    }
   },
   "outputs": [],
   "source": []
  }
 ],
 "metadata": {
  "application/vnd.databricks.v1+notebook": {
   "dashboards": [],
   "language": "python",
   "notebookMetadata": {
    "mostRecentlyExecutedCommandWithImplicitDF": {
     "commandId": 1643776971945721,
     "dataframes": [
      "_sqldf"
     ]
    },
    "pythonIndentUnit": 4
   },
   "notebookName": "Curso D - Stremming",
   "widgets": {}
  }
 },
 "nbformat": 4,
 "nbformat_minor": 0
}
